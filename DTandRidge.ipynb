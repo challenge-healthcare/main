{
 "cells": [
  {
   "cell_type": "code",
   "execution_count": 458,
   "id": "3f184281",
   "metadata": {},
   "outputs": [],
   "source": [
    "import pandas as pd \n",
    "import numpy as np\n",
    "import matplotlib.pyplot as plt\n",
    "import seaborn as sn\n",
    "from random import randint\n",
    "\n",
    "from sklearn.metrics import plot_confusion_matrix\n",
    "from sklearn.metrics import confusion_matrix\n",
    "from sklearn.metrics import classification_report\n",
    "from sklearn.model_selection import train_test_split\n",
    "from sklearn import preprocessing\n",
    "from sklearn.metrics import mean_squared_error\n",
    "from sklearn.metrics import mean_absolute_error\n",
    "from sklearn.metrics import r2_score\n",
    "from sklearn.linear_model import LinearRegression\n",
    "from sklearn.preprocessing import StandardScaler\n",
    "from sklearn.metrics import f1_score\n",
    "\n",
    "#SKLEARN?\n",
    "from sklearn.linear_model import Ridge\n",
    "from sklearn.linear_model import LogisticRegression\n",
    "from sklearn.ensemble import RandomForestRegressor"
   ]
  },
  {
   "cell_type": "markdown",
   "id": "3c89ede7-6e6c-4d75-b52d-25b87ebf1ef9",
   "metadata": {},
   "source": [
    "#### 1. Es werden wieder Ausreisser entfernt:"
   ]
  },
  {
   "cell_type": "code",
   "execution_count": 620,
   "id": "f7a20db6",
   "metadata": {},
   "outputs": [
    {
     "name": "stdout",
     "output_type": "stream",
     "text": [
      "   age sex     bmi  children smoker canton    pbf  charges\n",
      "1   19   w  24.720         0     ja     SO  35.94     4253\n",
      "2   18   m  29.416         1   nein     AG  26.86     2494\n",
      "3   28   m  28.800         3   nein     AG  26.92     3138\n",
      "4   33   m  20.564         0   nein     BS   7.98     1553\n",
      "5   32   m  25.504         0   nein     BS  21.84     2768\n"
     ]
    }
   ],
   "source": [
    "data = pd.read_csv(\"data_insurance.csv\", sep = \";\", names = ['age', 'sex', 'bmi', 'children', 'smoker', 'canton', \"pbf\", 'charges'])\n",
    "data = data.iloc[1:]\n",
    "\n",
    "data['charges'] = data['charges'].str.replace(\"’\", \"\").apply(pd.to_numeric)\n",
    "data['pbf'] = data['pbf'].apply(pd.to_numeric)\n",
    "data['bmi'] = data['bmi'].apply(pd.to_numeric)\n",
    "data['age'] = data['age'].apply(pd.to_numeric)\n",
    "data['children'] = data['children'].apply(pd.to_numeric)\n",
    "\n",
    "# 1 record with negative percentage of body fat.\n",
    "data = data[data[\"pbf\"]>0]\n",
    "data = data.dropna()\n",
    "print(data.head())"
   ]
  },
  {
   "cell_type": "code",
   "execution_count": 646,
   "id": "17ae5f3d",
   "metadata": {},
   "outputs": [
    {
     "name": "stdout",
     "output_type": "stream",
     "text": [
      "32\n",
      "166\n",
      "984\n",
      "543\n"
     ]
    },
    {
     "name": "stderr",
     "output_type": "stream",
     "text": [
      "<ipython-input-646-b47d867cebb1>:11: UserWarning: Boolean Series key will be reindexed to match DataFrame index.\n",
      "  charges_outliers_to_del = data2[(data['charges'] >= 59000)].index.values - 1\n",
      "<ipython-input-646-b47d867cebb1>:17: UserWarning: Boolean Series key will be reindexed to match DataFrame index.\n",
      "  data_no_outliers[(data['charges'] >= 59000)]\n"
     ]
    },
    {
     "data": {
      "text/html": [
       "<div>\n",
       "<style scoped>\n",
       "    .dataframe tbody tr th:only-of-type {\n",
       "        vertical-align: middle;\n",
       "    }\n",
       "\n",
       "    .dataframe tbody tr th {\n",
       "        vertical-align: top;\n",
       "    }\n",
       "\n",
       "    .dataframe thead th {\n",
       "        text-align: right;\n",
       "    }\n",
       "</style>\n",
       "<table border=\"1\" class=\"dataframe\">\n",
       "  <thead>\n",
       "    <tr style=\"text-align: right;\">\n",
       "      <th></th>\n",
       "      <th>age</th>\n",
       "      <th>sex</th>\n",
       "      <th>bmi</th>\n",
       "      <th>children</th>\n",
       "      <th>smoker</th>\n",
       "      <th>canton</th>\n",
       "      <th>pbf</th>\n",
       "      <th>charges</th>\n",
       "    </tr>\n",
       "  </thead>\n",
       "  <tbody>\n",
       "  </tbody>\n",
       "</table>\n",
       "</div>"
      ],
      "text/plain": [
       "Empty DataFrame\n",
       "Columns: [age, sex, bmi, children, smoker, canton, pbf, charges]\n",
       "Index: []"
      ]
     },
     "execution_count": 646,
     "metadata": {},
     "output_type": "execute_result"
    }
   ],
   "source": [
    "#index are not correct, don't know why, removed entries manually\n",
    "children_outliers_to_del = data[(data['age'] <= 21) & (data['children'] == 5)].index.values - 1\n",
    "\n",
    "for i in children_outliers_to_del:\n",
    "    print(i)\n",
    "\n",
    "#when these are removed, the score is worse by .10 for some reason but the mean absolute error drops by 60 points\n",
    "data2 = data.drop(data.index[[32, 165, 983]])\n",
    "data2[(data2['age'] <= 21) & (data2['children'] == 5)]\n",
    "\n",
    "charges_outliers_to_del = data2[(data['charges'] >= 59000)].index.values - 1\n",
    "for i in charges_outliers_to_del:\n",
    "    print(i)\n",
    "\n",
    "data_no_outliers = data2.drop(data.index[[542]])\n",
    "\n",
    "data_no_outliers[(data['charges'] >= 59000)]"
   ]
  },
  {
   "cell_type": "code",
   "execution_count": 647,
   "id": "b6c4e2aa",
   "metadata": {},
   "outputs": [
    {
     "name": "stdout",
     "output_type": "stream",
     "text": [
      "49\n",
      "   age  sex     bmi  children  smoker  canton    pbf  charges charges_level\n",
      "1   19    0  24.720         0       1       0  35.94     4253             0\n",
      "2   18    1  29.416         1       0       1  26.86     2494             0\n",
      "3   28    1  28.800         3       0       1  26.92     3138             0\n",
      "4   33    1  20.564         0       0       2   7.98     1553             0\n",
      "5   32    1  25.504         0       0       2  21.84     2768             0\n",
      "   age     bmi  children  smoker    pbf  charges  female   male     so     ag  \\\n",
      "1   19  24.720         0    True  35.94     4253    True  False   True  False   \n",
      "2   18  29.416         1   False  26.86     2494   False   True  False   True   \n",
      "3   28  28.800         3   False  26.92     3138   False   True  False   True   \n",
      "4   33  20.564         0   False   7.98     1553   False   True  False  False   \n",
      "5   32  25.504         0   False  21.84     2768   False   True  False  False   \n",
      "\n",
      "      bs     bl charges_level  \n",
      "1  False  False             0  \n",
      "2  False  False             0  \n",
      "3  False  False             0  \n",
      "4   True  False             0  \n",
      "5   True  False             0  \n"
     ]
    }
   ],
   "source": [
    "data_trees_no_outliers = data_no_outliers.copy()\n",
    "\n",
    "# Encode categorical variables.\n",
    "data_no_outliers[\"sex\"] = pd.factorize(data_no_outliers['sex'])[0]\n",
    "data_no_outliers[\"smoker\"] = data_no_outliers[\"smoker\"].apply(lambda x: x==\"ja\").astype(int)\n",
    "data_no_outliers['canton'] = pd.factorize(data_no_outliers['canton'])[0]\n",
    "\n",
    "# Encode categorical variables.\n",
    "data_trees_no_outliers[\"female\"] = data_trees_no_outliers[\"sex\"] == \"w\"\n",
    "data_trees_no_outliers[\"male\"] = data_trees_no_outliers[\"sex\"] == \"m\"\n",
    "data_trees_no_outliers[\"smoker\"] = data_trees_no_outliers[\"smoker\"].apply(lambda x: x==\"ja\")\n",
    "\n",
    "for canton_name in data_trees_no_outliers[\"canton\"].unique():\n",
    "    data_trees_no_outliers[canton_name.lower()] = data_trees_no_outliers[\"canton\"] == canton_name\n",
    "\n",
    "# Remove encoded categorical variables.\n",
    "data_trees_no_outliers = data_trees_no_outliers.drop('sex', axis=1)\n",
    "data_trees_no_outliers = data_trees_no_outliers.drop('canton', axis=1)\n",
    "\n",
    "\n",
    "# Divide the charges into categories. Is there a more objective way to determine the categories? K-clustering?\n",
    "bins = [1, 10000, 30000, 10000000]\n",
    "bin_labels = [0, 1, 2]\n",
    "data_trees_no_outliers[\"charges_level\"] = pd.cut(data_trees_no_outliers[\"charges\"], bins=bins, labels=bin_labels, include_lowest=True)\n",
    "data_no_outliers[\"charges_level\"] = pd.cut(data_no_outliers[\"charges\"], bins=bins, labels=bin_labels, include_lowest=True)\n",
    "\n",
    "seed = randint(0,100)\n",
    "print(seed)\n",
    "random_seed = seed\n",
    "\n",
    "print(data_no_outliers.head())\n",
    "\n",
    "print(data_trees_no_outliers.head())"
   ]
  },
  {
   "cell_type": "markdown",
   "id": "eb640476-2d65-4c77-a14f-5b33aa059e8e",
   "metadata": {},
   "source": [
    "#### Im nächsten Code-Abschnitt wurde mit dem PCA und dem Logarithmus der Daten herumgespielt und die Trainingsdaten erstellt."
   ]
  },
  {
   "cell_type": "code",
   "execution_count": 648,
   "id": "b7d90f41",
   "metadata": {
    "tags": []
   },
   "outputs": [
    {
     "name": "stdout",
     "output_type": "stream",
     "text": [
      "[-3.55271368e-15  4.33683207e+01] [[-0.70710678 -0.70710678]\n",
      " [-0.70710678  0.70710678]]\n",
      "      age  sex     bmi  children  smoker  canton    pbf  charges charges_level\n",
      "1      19    0  24.720         0       1       0  35.94     4253             0\n",
      "2      18    1  29.416         1       0       1  26.86     2494             0\n",
      "3      28    1  28.800         3       0       1  26.92     3138             0\n",
      "4      33    1  20.564         0       0       2   7.98     1553             0\n",
      "5      32    1  25.504         0       0       2  21.84     2768             0\n",
      "...   ...  ...     ...       ...     ...     ...    ...      ...           ...\n",
      "1334   50    1  27.176         3       0       2  23.02     5767             0\n",
      "1335   18    0  27.936         0       0       3  42.18     2547             0\n",
      "1336   18    0  31.880         0       0       1  49.59     3026             0\n",
      "1337   21    0  23.040         0       0       0  31.18     2208             0\n",
      "1338   61    0  25.656         0       1       2  38.63    19007             1\n",
      "\n",
      "[1333 rows x 9 columns]\n"
     ]
    }
   ],
   "source": [
    "#data_no_outliers[[\"sex\", \"bmi\", \"pbf\"]] = data_no_outliers[[\"sex\", \"bmi\", \"pbf\"]]\n",
    "\n",
    "pca_data = data_no_outliers[['bmi', 'pbf']]\n",
    "\n",
    "X = pca_data.values\n",
    "X = X.T\n",
    "x_mean = X - np.mean(X, axis=0) \n",
    "\n",
    "test = np.cov(x_mean)\n",
    "(eigvalues_, components_) = np.linalg.eigh(test)\n",
    "print(eigvalues_, components_.T)\n",
    "idx = eigvalues_.argsort()[::-1]   \n",
    "eigvalues_ = eigvalues_[idx]\n",
    "total_variance_ = np.sum(eigvalues_)\n",
    "explained_variance_ = eigvalues_ / total_variance_\n",
    "\n",
    "temp_data = data_no_outliers.copy()\n",
    "\n",
    "#log doesnt seem to make a difference\n",
    "#temp_data['bmi'] = np.log(temp_data['bmi'])\n",
    "#temp_data['sex'] = np.log(temp_data['sex'])\n",
    "#temp_data['pbf'] = np.log(temp_data['pbf'])\n",
    "temp_data[\"charges\"] = np.log(temp_data[\"charges\"])\n",
    "#temp_data[['pca2', 'pca3']] = np.dot(temp_data[['bmi', 'pbf']].values, components_.T)\n",
    "\n",
    "first_level = temp_data[temp_data.charges_level == 0]\n",
    "print(data_no_outliers)\n",
    "second_level = temp_data[temp_data.charges_level == 1]\n",
    "third_level = temp_data[temp_data.charges_level == 2]\n",
    "\n",
    "labels_first_level = np.array(first_level['charges'])\n",
    "labels_second_level = np.array(second_level['charges'])\n",
    "labels_third_level = np.array(third_level['charges'])\n",
    "labels_all = np.array(temp_data[\"charges\"])\n",
    "# The data we want to split = 'input'\n",
    "input1 = first_level.drop('sex', axis = 1).drop('charges', axis = 1).drop('charges_level', axis = 1)\n",
    "input2 = second_level.drop('sex', axis = 1).drop('charges', axis = 1).drop('charges_level', axis = 1)\n",
    "input3 = third_level.drop('sex', axis = 1).drop('charges', axis = 1).drop('charges_level', axis = 1)\n",
    "input_all = temp_data.drop('sex', axis = 1).drop(\"charges\", axis = 1).drop(\"charges_level\", axis=1)\n",
    "\n",
    "# The argument for the split function has to be an array\n",
    "input1 = np.array(input1)\n",
    "input2 = np.array(input2)\n",
    "input3 = np.array(input3)\n",
    "input_all = np.array(input_all)\n",
    "\n",
    "train_input1, test_input1, train_labels1, test_labels1 = \\\n",
    "train_test_split(input1, labels_first_level, test_size = 0.25, random_state = random_seed) \n",
    "\n",
    "train_input2, test_input2, train_labels2, test_labels2 = \\\n",
    "train_test_split(input2, labels_second_level, test_size = 0.25, random_state = random_seed) \n",
    "\n",
    "train_input3, test_input3, train_labels3, test_labels3 = \\\n",
    "train_test_split(input3, labels_third_level, test_size = 0.25, random_state = random_seed) \n",
    "\n",
    "train_input_all, test_input_all, train_labels_all, test_labels_all = \\\n",
    "train_test_split(input_all, labels_all, test_size = 0.25, random_state = random_seed)"
   ]
  },
  {
   "cell_type": "markdown",
   "id": "98449cb9-a96c-4443-9aeb-4c6a68dba0c3",
   "metadata": {},
   "source": [
    "Der folgende Code ist auskommentiert, weil es die Pipeline beeinflusst und weil es der Exploration gehört. Es wurden die Principal Components der einzelnen Kategorien genommen, um die Components zu analysieren.\n",
    "\n",
    "##### Annahme: \n",
    "Die Verhältnisse von Geschlecht, BMI und PBF unter den Kathegorien ändern sich nicht gross. Die wird durch die ähnlichen Eigenwerten und Eigenvektoren der Principal Component Analysis erklärt."
   ]
  },
  {
   "cell_type": "code",
   "execution_count": 7,
   "id": "b1c71d95",
   "metadata": {
    "jupyter": {
     "source_hidden": true
    },
    "tags": []
   },
   "outputs": [
    {
     "name": "stdout",
     "output_type": "stream",
     "text": [
      "eigvalues and components of first level: [-3.30535631e-15  5.99018205e+00  7.29390757e+01] [[-0.57735027 -0.57735027 -0.57735027]\n",
      " [ 0.59379749 -0.78223719  0.18843969]\n",
      " [-0.56042056 -0.23403344  0.79445399]]\n",
      "eigvalues and components of second level: [-2.53874587e-15  5.24128148e+00  8.16864539e+01] [[-0.57735027 -0.57735027 -0.57735027]\n",
      " [ 0.5963623  -0.78115528  0.18479298]\n",
      " [-0.55769048 -0.23761966  0.79531014]]\n",
      "eigvalues and components of third level: [-4.69708940e-15  2.61987027e+00  6.88236828e+01] [[-0.57735027 -0.57735027 -0.57735027]\n",
      " [ 0.65307859 -0.75094036  0.09786177]\n",
      " [-0.49005614 -0.32055458  0.81061072]]\n",
      "eigvalues and components of all data: [-4.40368843e-16  6.77022062e+00  8.04806750e+01] [[-0.57735027 -0.57735027 -0.57735027]\n",
      " [-0.57533275  0.78940751 -0.21407476]\n",
      " [-0.57936076 -0.2085724   0.78793316]]\n"
     ]
    },
    {
     "name": "stderr",
     "output_type": "stream",
     "text": [
      "<ipython-input-7-8516d6f105f3>:34: SettingWithCopyWarning: \n",
      "A value is trying to be set on a copy of a slice from a DataFrame.\n",
      "Try using .loc[row_indexer,col_indexer] = value instead\n",
      "\n",
      "See the caveats in the documentation: https://pandas.pydata.org/pandas-docs/stable/user_guide/indexing.html#returning-a-view-versus-a-copy\n",
      "  first_level[['pca1', 'pca2', 'pca3']] = np.dot(first_level[['sex', 'bmi', 'pbf']].values, components_.T)\n",
      "C:\\Users\\bruno\\anaconda3\\lib\\site-packages\\pandas\\core\\indexing.py:1738: SettingWithCopyWarning: \n",
      "A value is trying to be set on a copy of a slice from a DataFrame.\n",
      "Try using .loc[row_indexer,col_indexer] = value instead\n",
      "\n",
      "See the caveats in the documentation: https://pandas.pydata.org/pandas-docs/stable/user_guide/indexing.html#returning-a-view-versus-a-copy\n",
      "  self._setitem_single_column(loc, value[:, i].tolist(), pi)\n",
      "<ipython-input-7-8516d6f105f3>:50: SettingWithCopyWarning: \n",
      "A value is trying to be set on a copy of a slice from a DataFrame.\n",
      "Try using .loc[row_indexer,col_indexer] = value instead\n",
      "\n",
      "See the caveats in the documentation: https://pandas.pydata.org/pandas-docs/stable/user_guide/indexing.html#returning-a-view-versus-a-copy\n",
      "  second_level[['pca1', 'pca2', 'pca3']] = np.dot(second_level[['sex', 'bmi', 'pbf']].values, components_.T)\n",
      "<ipython-input-7-8516d6f105f3>:66: SettingWithCopyWarning: \n",
      "A value is trying to be set on a copy of a slice from a DataFrame.\n",
      "Try using .loc[row_indexer,col_indexer] = value instead\n",
      "\n",
      "See the caveats in the documentation: https://pandas.pydata.org/pandas-docs/stable/user_guide/indexing.html#returning-a-view-versus-a-copy\n",
      "  third_level[['pca1', 'pca2', 'pca3']] = np.dot(third_level[['sex', 'bmi', 'pbf']].values, components_.T)\n"
     ]
    }
   ],
   "source": [
    "'''temp_data = data_no_outliers.copy()\n",
    "\n",
    "#log doesnt seem to make a difference\n",
    "#temp_data['bmi'] = np.log(temp_data['bmi'])\n",
    "#temp_data['sex'] = np.log(temp_data['sex'])\n",
    "#temp_data['pbf'] = np.log(temp_data['pbf'])\n",
    "temp_data[\"charges\"] = np.log(temp_data[\"charges\"])\n",
    "#temp_data[['pca2', 'pca3']] = np.dot(temp_data[['bmi', 'pbf']].values, components_.T)\n",
    "\n",
    "first_level = temp_data[temp_data.charges_level == 0]\n",
    "second_level = temp_data[temp_data.charges_level == 1]\n",
    "third_level = temp_data[temp_data.charges_level == 2]\n",
    "\n",
    "labels_first_level = np.array(first_level['charges'])\n",
    "labels_second_level = np.array(second_level['charges'])\n",
    "labels_third_level = np.array(third_level['charges'])\n",
    "labels_all = np.array(temp_data[\"charges\"])\n",
    "# The data we want to split = 'input'\n",
    "\n",
    "temp = first_level[['sex', 'bmi', 'pbf']]\n",
    "\n",
    "X = temp.values\n",
    "X = X.T\n",
    "x_mean = X - np.mean(X, axis=0) \n",
    "\n",
    "test = np.cov(x_mean)\n",
    "(eigvalues_, components_) = np.linalg.eigh(test)\n",
    "print(\"eigvalues and components of first level:\", eigvalues_, components_.T)\n",
    "idx = eigvalues_.argsort()[::-1]   \n",
    "eigvalues_ = eigvalues_[idx]\n",
    "total_variance_ = np.sum(eigvalues_)\n",
    "explained_variance_ = eigvalues_ / total_variance_\n",
    "\n",
    "first_level[['pca1', 'pca2', 'pca3']] = np.dot(first_level[['sex', 'bmi', 'pbf']].values, components_.T)\n",
    "\n",
    "temp = second_level[['sex', 'bmi', 'pbf']]\n",
    "\n",
    "X = temp.values\n",
    "X = X.T\n",
    "x_mean = X - np.mean(X, axis=0) \n",
    "\n",
    "test = np.cov(x_mean)\n",
    "(eigvalues_, components_) = np.linalg.eigh(test)\n",
    "print(\"eigvalues and components of second level:\", eigvalues_, components_.T)\n",
    "idx = eigvalues_.argsort()[::-1]   \n",
    "eigvalues_ = eigvalues_[idx]\n",
    "total_variance_ = np.sum(eigvalues_)\n",
    "explained_variance_ = eigvalues_ / total_variance_\n",
    "\n",
    "second_level[['pca1', 'pca2', 'pca3']] = np.dot(second_level[['sex', 'bmi', 'pbf']].values, components_.T)\n",
    "\n",
    "temp = third_level[['sex', 'bmi', 'pbf']]\n",
    "\n",
    "X = temp.values\n",
    "X = X.T\n",
    "x_mean = X - np.mean(X, axis=0) \n",
    "\n",
    "test = np.cov(x_mean)\n",
    "(eigvalues_, components_) = np.linalg.eigh(test)\n",
    "print(\"eigvalues and components of third level:\", eigvalues_, components_.T)\n",
    "idx = eigvalues_.argsort()[::-1]   \n",
    "eigvalues_ = eigvalues_[idx]\n",
    "total_variance_ = np.sum(eigvalues_)\n",
    "explained_variance_ = eigvalues_ / total_variance_\n",
    "\n",
    "third_level[['pca1', 'pca2', 'pca3']] = np.dot(third_level[['sex', 'bmi', 'pbf']].values, components_.T)\n",
    "\n",
    "temp = temp_data[['sex', 'bmi', 'pbf']]\n",
    "\n",
    "X = temp.values\n",
    "X = X.T\n",
    "x_mean = X - np.mean(X, axis=0) \n",
    "\n",
    "test = np.cov(x_mean)\n",
    "(eigvalues_, components_) = np.linalg.eigh(test)\n",
    "print(\"eigvalues and components of all data:\", eigvalues_, components_.T)\n",
    "idx = eigvalues_.argsort()[::-1]   \n",
    "eigvalues_ = eigvalues_[idx]\n",
    "total_variance_ = np.sum(eigvalues_)\n",
    "explained_variance_ = eigvalues_ / total_variance_\n",
    "\n",
    "temp_data[['pca1', 'pca2', 'pca3']] = np.dot(temp_data[['sex', 'bmi', 'pbf']].values, components_.T)\n",
    "\n",
    "input1 = first_level.drop('sex', axis = 1).drop('bmi', axis = 1).drop('pbf', axis = 1).drop('charges', axis = 1).drop('charges_level', axis = 1)\n",
    "input2 = second_level.drop('sex', axis = 1).drop('bmi', axis = 1).drop('pbf', axis = 1).drop('charges', axis = 1).drop('charges_level', axis = 1)\n",
    "input3 = third_level.drop('sex', axis = 1).drop('bmi', axis = 1).drop('pbf', axis = 1).drop('charges', axis = 1).drop('charges_level', axis = 1)\n",
    "input_all = temp_data.drop('sex', axis = 1).drop('bmi', axis = 1).drop('pbf', axis = 1).drop(\"charges\", axis = 1).drop(\"charges_level\", axis=1)\n",
    "\n",
    "# The argument for the split function has to be an array\n",
    "input1 = np.array(input1)\n",
    "input2 = np.array(input2)\n",
    "input3 = np.array(input3)\n",
    "input_all = np.array(input_all)\n",
    "\n",
    "train_input1, test_input1, train_labels1, test_labels1 = \\\n",
    "train_test_split(input1, labels_first_level, test_size = 0.25) \n",
    "\n",
    "train_input2, test_input2, train_labels2, test_labels2 = \\\n",
    "train_test_split(input2, labels_second_level, test_size = 0.25) \n",
    "\n",
    "train_input3, test_input3, train_labels3, test_labels3 = \\\n",
    "train_test_split(input3, labels_third_level, test_size = 0.25) \n",
    "\n",
    "train_input_all, test_input_all, train_labels_all, test_labels_all = \\\n",
    "train_test_split(input_all, labels_all, test_size = 0.25)'''"
   ]
  },
  {
   "cell_type": "code",
   "execution_count": 649,
   "id": "01df55e0",
   "metadata": {},
   "outputs": [
    {
     "name": "stdout",
     "output_type": "stream",
     "text": [
      "21\n"
     ]
    }
   ],
   "source": [
    "labels_trees = np.array(data_trees_no_outliers['charges_level'])\n",
    "\n",
    "# The data we want to split = 'input'\n",
    "input_trees = data_trees_no_outliers.drop('charges', axis=1).drop('charges_level', axis=1).drop('female', axis = 1).drop('male', axis = 1)\n",
    "\n",
    "# The argument for the split function has to be an array\n",
    "input_trees = np.array(input_trees)\n",
    "\n",
    "# Split the data into training and test sets\n",
    "train_input_trees, test_input_trees, train_labels_trees, test_labels_trees = \\\n",
    "    train_test_split(input_trees, labels_trees, test_size = 0.25, random_state=random_seed)\n",
    "#print(train_labels_trees)\n",
    "print(len(np.where(labels_trees == 2)[0]))"
   ]
  },
  {
   "cell_type": "markdown",
   "id": "f86c11c6-5f9a-4df2-a03f-712f78324185",
   "metadata": {},
   "source": [
    "Wie viele 3. kategorien Entries gibt es für die Aufteilung in Trainings- und Testdaten?"
   ]
  },
  {
   "cell_type": "code",
   "execution_count": 650,
   "id": "2a67c0d1",
   "metadata": {},
   "outputs": [
    {
     "data": {
      "text/plain": [
       "(array([1., 3., 3., 1., 3., 3., 3., 2., 0., 2.]),\n",
       " array([30586. , 31902.3, 33218.6, 34534.9, 35851.2, 37167.5, 38483.8,\n",
       "        39800.1, 41116.4, 42432.7, 43749. ]),\n",
       " <BarContainer object of 10 artists>)"
      ]
     },
     "execution_count": 650,
     "metadata": {},
     "output_type": "execute_result"
    },
    {
     "data": {
      "image/png": "[encoded data removed]",
      "text/plain": [
       "<Figure size 360x360 with 1 Axes>"
      ]
     },
     "metadata": {
      "needs_background": "light"
     },
     "output_type": "display_data"
    }
   ],
   "source": [
    "#plot grossschaeden\n",
    "outlier = data.index[[542]]\n",
    "plt.hist(np.exp(labels_third_level))"
   ]
  },
  {
   "cell_type": "markdown",
   "id": "88857d56-9039-46b6-a994-81a15d0e0a6f",
   "metadata": {},
   "source": [
    "So sieht das Instantieren der Regressions aus. Man nimmt die in ihre zugehörige Kategorie aufgeteilten Daten und fitted je eine Regression. Die Prediciton muss noch hoch e gerechnet werden, weil der Logarithmus der Charges genommen wurde."
   ]
  },
  {
   "cell_type": "code",
   "execution_count": 651,
   "id": "74083ed7",
   "metadata": {},
   "outputs": [
    {
     "name": "stdout",
     "output_type": "stream",
     "text": [
      "[10.01480529  9.22315788  9.726452    9.35157948  9.56373996  9.21313646\n",
      "  9.37033111 10.20997911  9.41759841  9.71577147  9.48910783 10.06552136\n",
      "  9.28014625  9.71275069  9.34513347  9.27809247  9.21900275  9.28312604\n",
      "  9.42843118  9.22345401  9.4231103   9.52273945  9.76703762  9.2581777\n",
      "  9.64853078  9.54065081  9.36048303  9.40763264  9.48516514  9.84065424\n",
      "  9.64355034  9.25598273  9.49769739  9.65374332  9.74864497  9.86375871\n",
      " 10.14713936  9.22098353  9.37847848 10.13420237  9.84686429  9.85256261\n",
      "  9.84580547  9.58486506  9.39007525  9.34207014  9.53769978  9.93090815\n",
      "  9.38622459  9.36409097  9.43875003 10.12707101  9.40252975  9.70601175\n",
      " 10.16211407  9.30928032  9.58582726  9.50397966  9.98322252  9.26955223\n",
      "  9.33335415 10.08622569 10.07920401  9.7696704   9.88021893  9.24638296\n",
      "  9.61152969  9.2415483   9.23082904  9.31560088  9.30683167  9.4006301\n",
      "  9.66326142  9.49784743  9.61500516  9.25493126  9.59171768  9.40598939\n",
      "  9.35452729  9.24387186  9.63639211  9.92167122  9.47024006  9.2644497\n",
      "  9.36751505  9.89852526  9.5785189   9.45061632  9.82119231  9.28693097\n",
      "  9.2562693   9.27322127  9.36964915  9.3676005   9.44073755 10.04503052\n",
      "  9.42165423  9.97980024  9.47700308  9.32821229  9.66364281  9.58452119\n",
      "  9.62138986  9.55009294  9.22414465  9.76663637 10.00694626  9.29880902\n",
      "  9.87601358  9.22246655  9.72937223  9.38185373  9.55187122 10.1101358\n",
      "  9.24522477 10.23995979  9.77661962  9.93943368  9.6402379   9.3921618\n",
      "  9.21373461 10.01703943  9.47990939  9.6415382   9.23415455  9.54359315\n",
      "  9.3949094  10.12643108  9.71087321  9.83102438  9.50248746  9.99058226\n",
      "  9.53010234  9.79673718  9.71293219  9.39938925  9.45555848  9.75672617\n",
      "  9.42205891]\n",
      "[[43.    26.32   1.     0.     0.    38.97 ]\n",
      " [53.    23.528  2.     0.     3.    15.44 ]\n",
      " [47.    28.     1.     0.     0.    42.46 ]\n",
      " ...\n",
      " [39.    17.04   5.     1.     0.    27.37 ]\n",
      " [57.    25.36   0.     0.     0.    37.74 ]\n",
      " [27.    29.328  0.     0.     1.    27.89 ]]\n"
     ]
    }
   ],
   "source": [
    "RidgeRegressor = Ridge()\n",
    "RidgeRegressor2 = Ridge()\n",
    "RidgeRegressor3 = Ridge()\n",
    "\n",
    "scaler1 = StandardScaler()\n",
    "scaler1.fit(train_input1)\n",
    "scaled_train_input1 = scaler1.transform(train_input1)\n",
    "\n",
    "scaler2 = StandardScaler()\n",
    "scaler2.fit(train_input2)\n",
    "scaled_train_input2 = scaler2.transform(train_input2)\n",
    "\n",
    "scaler3 = StandardScaler()\n",
    "scaler3.fit(train_input3)\n",
    "scaled_train_input3 = scaler3.transform(train_input3)\n",
    "\n",
    "#scaled_test_input1 = scaler1.transform(test_input_all[np.where(label_prediction == 0)])\n",
    "#scaled_test_input2 = scaler2.transform(test_input_all[np.where(label_prediction == 1)])\n",
    "#scaled_test_input3 = scaler3.transform(test_input_all[np.where(label_prediction == 2)])\n",
    "\n",
    "ridge_first_level = RidgeRegressor.fit(train_input1, train_labels1)\n",
    "\n",
    "ridge_second_level = RidgeRegressor2.fit(train_input2, train_labels2)\n",
    "print(train_labels2)\n",
    "\n",
    "ridge_third_level = RidgeRegressor3.fit(train_input3, train_labels3)\n",
    "print(train_input1)"
   ]
  },
  {
   "cell_type": "markdown",
   "id": "079e797d-4966-463c-af4f-069f3890825a",
   "metadata": {},
   "source": [
    "Wie kann man dann *alle* Daten in ihre Kategorien aufteilen? Mit Decision Trees:"
   ]
  },
  {
   "cell_type": "code",
   "execution_count": 652,
   "id": "14bcc40f",
   "metadata": {
    "tags": []
   },
   "outputs": [
    {
     "data": {
      "image/png": "[encoded data removed]",
      "text/plain": [
       "<Figure size 360x360 with 2 Axes>"
      ]
     },
     "metadata": {
      "needs_background": "light"
     },
     "output_type": "display_data"
    },
    {
     "name": "stdout",
     "output_type": "stream",
     "text": [
      "              precision    recall  f1-score   support\n",
      "\n",
      "           0       0.97      0.99      0.98       285\n",
      "           1       0.92      0.73      0.81        45\n",
      "           2       0.67      1.00      0.80         4\n",
      "\n",
      "    accuracy                           0.96       334\n",
      "   macro avg       0.85      0.91      0.86       334\n",
      "weighted avg       0.96      0.96      0.95       334\n",
      "\n"
     ]
    }
   ],
   "source": [
    "from sklearn import tree\n",
    "from sklearn.tree import DecisionTreeClassifier\n",
    "from sklearn.utils.class_weight import compute_sample_weight\n",
    "\n",
    "#aiwdj = compute_sample_weight([{0:1, 1:1}, {0:1, 1:1}, {0:1, 1:10}], train_labels_trees)\n",
    "#print(aiwdj)\n",
    "decision_model = tree.DecisionTreeClassifier(criterion=\"entropy\", splitter=\"best\", ccp_alpha = 0)\n",
    "fitted = decision_model.fit(train_input_trees, train_labels_trees)\n",
    "#print(test_labels_trees)\n",
    "#print(len(np.where(train_labels_trees == 2)[0]))\n",
    "\n",
    "# Round up prediction labels as integers\n",
    "label_prediction = decision_model.predict(test_input_trees)\n",
    "\n",
    "\n",
    "result = pd.DataFrame()\n",
    "result['prediction'] = label_prediction\n",
    "result['prediction_charges_level'] = pd.cut(result['prediction'],\n",
    "                                            bins=bins, # use bins from before\n",
    "                                            labels=bin_labels, \n",
    "                                            include_lowest=True)\n",
    "\n",
    "result['actual'] = test_labels_trees\n",
    "result['actual_charges_level'] = pd.cut(result['actual'], \n",
    "                                        bins=bins, \n",
    "                                        labels=bin_labels, \n",
    "                                        include_lowest=True)\n",
    "\n",
    "\n",
    "cm = confusion_matrix(test_labels_trees, label_prediction)\n",
    "\n",
    "plt.rcParams['figure.figsize'] = [5, 5]\n",
    "ax= plt.subplot()\n",
    "sn.heatmap(cm, annot=True, fmt='g', ax=ax);  #annot=True to annotate cells, ftm='g' to disable scientific notation\n",
    "\n",
    "# labels, title and ticks\n",
    "ax.set_xlabel('Predicted labels')\n",
    "ax.set_ylabel('True labels')\n",
    "ax.set_title('Confusion Matrix') \n",
    "plt.show()\n",
    "\n",
    "print(classification_report(result[\"actual\"], result[\"prediction\"]))"
   ]
  },
  {
   "cell_type": "markdown",
   "id": "8ff80309-6640-4966-a732-7a3e0db569ec",
   "metadata": {},
   "source": [
    "Test des Decision Trees auf Trainingsdaten:"
   ]
  },
  {
   "cell_type": "code",
   "execution_count": 653,
   "id": "1403e369",
   "metadata": {},
   "outputs": [
    {
     "name": "stdout",
     "output_type": "stream",
     "text": [
      "(array([ 23, 132, 133, 138, 254, 418, 426, 634, 649, 709, 748, 754, 824,\n",
      "       842, 847, 905, 952], dtype=int64),)\n"
     ]
    },
    {
     "data": {
      "image/png": "[encoded data removed]",
      "text/plain": [
       "<Figure size 360x360 with 2 Axes>"
      ]
     },
     "metadata": {
      "needs_background": "light"
     },
     "output_type": "display_data"
    },
    {
     "name": "stdout",
     "output_type": "stream",
     "text": [
      "              precision    recall  f1-score   support\n",
      "\n",
      "           0       0.97      0.99      0.98       285\n",
      "           1       0.92      0.73      0.81        45\n",
      "           2       0.67      1.00      0.80         4\n",
      "\n",
      "    accuracy                           0.96       334\n",
      "   macro avg       0.85      0.91      0.86       334\n",
      "weighted avg       0.96      0.96      0.95       334\n",
      "\n"
     ]
    }
   ],
   "source": [
    "# Round up prediction labels as integers\n",
    "label_prediction_train = decision_model.predict(train_input_trees)\n",
    "\n",
    "cm = confusion_matrix(train_labels_trees, label_prediction_train)\n",
    "print(np.where(label_prediction_train == 2))\n",
    "plt.rcParams['figure.figsize'] = [5, 5]\n",
    "ax= plt.subplot()\n",
    "sn.heatmap(cm, annot=True, fmt='g', ax=ax);  #annot=True to annotate cells, ftm='g' to disable scientific notation\n",
    "\n",
    "# labels, title and ticks\n",
    "ax.set_xlabel('Predicted labels')\n",
    "ax.set_ylabel('True labels')\n",
    "ax.set_title('Confusion Matrix') \n",
    "plt.show()\n",
    "print(classification_report(result[\"actual\"], result[\"prediction\"]))"
   ]
  },
  {
   "cell_type": "markdown",
   "id": "a7e4999d",
   "metadata": {},
   "source": [
    "Die False Positives und False Negatives der letzten Kathegorie sind sehr ungünstig, da die falsche Voraussage eines Grossschadenfalls sehr viel ausmacht."
   ]
  },
  {
   "cell_type": "code",
   "execution_count": 654,
   "id": "f6311ca0",
   "metadata": {
    "tags": []
   },
   "outputs": [
    {
     "name": "stdout",
     "output_type": "stream",
     "text": [
      "[0 0 0 0 0 0 0 0 0 0 0 0 0 0 1 0 0 0 0 0 1 0 0 0 0 0 1 0 0 2 0 0 0 0 0 0 0\n",
      " 0 0 1 0 0 0 0 0 0 0 0 0 0 1 0 1 0 0 0 0 0 1 0 0 0 0 0 0 1 0 1 0 0 0 0 1 0\n",
      " 0 0 0 0 0 0 0 0 0 2 0 0 0 1 0 0 0 0 0 0 0 0 1 0 0 0 0 0 0 2 0 0 0 0 0 1 0\n",
      " 0 0 0 0 1 0 0 0 0 0 0 0 0 0 0 0 2 0 0 0 0 0 0 0 0 0 0 0 0 0 0 0 0 0 0 0 0\n",
      " 0 0 0 0 0 0 0 1 0 0 0 0 0 0 1 0 0 1 1 0 0 0 0 1 1 0 0 0 0 0 0 0 0 0 0 0 0\n",
      " 2 0 1 0 0 0 0 0 0 0 0 0 0 0 0 0 0 0 0 0 0 0 0 0 0 0 0 0 0 0 0 0 0 0 0 0 0\n",
      " 0 0 0 0 0 0 0 0 0 0 0 0 0 1 0 0 0 0 0 0 0 0 0 1 0 0 0 0 0 0 0 0 1 1 0 0 0\n",
      " 1 0 0 0 0 1 0 0 0 0 0 2 0 0 0 0 0 1 0 0 0 1 0 1 0 0 1 0 0 0 0 0 0 0 0 0 0\n",
      " 0 0 0 0 0 0 0 0 1 0 0 0 0 0 0 0 1 0 0 1 0 0 0 1 0 1 0 0 0 0 0 0 0 0 0 0 0\n",
      " 0]\n",
      "[[45 31.584 2 True 30.99 False False True False]\n",
      " [48 34.852 2 True 37.15 False False True False]\n",
      " [53 31.888 3 True 50.79 False False True False]\n",
      " [36 35.916 3 True 39.18 False False False True]\n",
      " [51 36.72 2 True 40.61 False True False False]\n",
      " [61 31.508 1 True 49.68 False False False True]]\n"
     ]
    }
   ],
   "source": [
    "print(label_prediction)\n",
    "print(test_input_trees[np.where(label_prediction == 2)])"
   ]
  },
  {
   "cell_type": "markdown",
   "id": "ac3e2e71-1ccd-4de3-8e3b-0fc92a052169",
   "metadata": {},
   "source": [
    "##### Parameter Pruning mit ccp_alphas: "
   ]
  },
  {
   "cell_type": "code",
   "execution_count": 655,
   "id": "d6835c40",
   "metadata": {
    "tags": []
   },
   "outputs": [
    {
     "data": {
      "image/png": "[encoded data removed]",
      "text/plain": [
       "<Figure size 1800x756 with 1 Axes>"
      ]
     },
     "metadata": {
      "needs_background": "light"
     },
     "output_type": "display_data"
    },
    {
     "name": "stdout",
     "output_type": "stream",
     "text": [
      "Max train data model score 0.0\n",
      "Max test data model score: 0.0032483608586952265\n",
      "Max test data f1 score: 0.0032483608586952265\n"
     ]
    }
   ],
   "source": [
    "import sklearn\n",
    "\n",
    "path = fitted.cost_complexity_pruning_path(train_input_trees, train_labels_trees)\n",
    "ccp_alphas, impurities = path.ccp_alphas, path.impurities\n",
    "\n",
    "models = []\n",
    "\n",
    "train_scores = []\n",
    "test_scores = []\n",
    "f1_scores = []\n",
    "\n",
    "for ccp_alpha in ccp_alphas:\n",
    "    model = DecisionTreeClassifier(criterion=\"entropy\", splitter=\"best\", ccp_alpha = ccp_alpha)\n",
    "    model.fit(train_input_trees, train_labels_trees)\n",
    "    train_score = model.score(train_input_trees, train_labels_trees)\n",
    "    test_score = model.score(test_input_trees, test_labels_trees)\n",
    "    f1_scores.append(f1_score(test_labels_trees, model.predict(test_input_trees), average=\"macro\"))\n",
    "    train_scores.append(train_score)\n",
    "    test_scores.append(test_score)\n",
    "    \n",
    "    models.append(model)\n",
    "\n",
    "\n",
    "fig, ax = plt.subplots()\n",
    "\n",
    "fig.set_size_inches(25, 10.5)\n",
    "\n",
    "ax.set_xlabel(\"alpha\")\n",
    "ax.set_ylabel(\"accuracy\")\n",
    "ax.set_title(\"Accuracy over alpha for training and testing data\")\n",
    "\n",
    "ax.plot(ccp_alphas, train_scores, label=\"train-data\")\n",
    "ax.plot(ccp_alphas, test_scores, label=\"test-data\")\n",
    "ax.plot(ccp_alphas, f1_scores, label=\"f1_score_macro\")\n",
    "ax.legend()\n",
    "\n",
    "plt.show()\n",
    "print(\"Max train data model score\", ccp_alphas[np.where(train_scores == np.amax(train_scores))][0])\n",
    "print(\"Max test data model score:\", ccp_alphas[np.where(test_scores == np.amax(test_scores))][0])\n",
    "print(\"Max test data f1 score:\", ccp_alphas[np.where(f1_scores == np.amax(f1_scores))][0])"
   ]
  },
  {
   "cell_type": "markdown",
   "id": "55a88c2f-23cb-4d82-916a-48cdcc39a316",
   "metadata": {},
   "source": [
    "Generell macht das Pruning nicht viel aus. Wir nehmen für verschiedene Durchläufe der Trees und der Regression also immer denselben ccp_alpha Wert:"
   ]
  },
  {
   "cell_type": "code",
   "execution_count": 660,
   "id": "4ee8ffb3",
   "metadata": {
    "tags": []
   },
   "outputs": [
    {
     "name": "stdout",
     "output_type": "stream",
     "text": [
      "              precision    recall  f1-score   support\n",
      "\n",
      "           0       0.96      0.99      0.98       285\n",
      "           1       0.94      0.71      0.81        45\n",
      "           2       0.67      1.00      0.80         4\n",
      "\n",
      "    accuracy                           0.96       334\n",
      "   macro avg       0.86      0.90      0.86       334\n",
      "weighted avg       0.96      0.96      0.95       334\n",
      "\n"
     ]
    },
    {
     "data": {
      "image/png": "[encoded data removed]",
      "text/plain": [
       "<Figure size 360x360 with 2 Axes>"
      ]
     },
     "metadata": {
      "needs_background": "light"
     },
     "output_type": "display_data"
    }
   ],
   "source": [
    "model = tree.DecisionTreeClassifier(criterion=\"entropy\", splitter=\"best\", ccp_alpha = 0)\n",
    "fitted = model.fit(train_input_trees, train_labels_trees)\n",
    "\n",
    "# Round up prediction labels as integers\n",
    "y_pred_cycle_trees = model.predict(test_input_trees)\n",
    "\n",
    "cm = confusion_matrix(test_labels_trees, y_pred_cycle_trees)\n",
    "\n",
    "plt.rcParams['figure.figsize'] = [5, 5]\n",
    "ax= plt.subplot()\n",
    "sn.heatmap(cm, annot=True, fmt='g', ax=ax);  #annot=True to annotate cells, ftm='g' to disable scientific notation\n",
    "\n",
    "# labels, title and ticks\n",
    "ax.set_xlabel('Predicted labels')\n",
    "ax.set_ylabel('True labels')\n",
    "ax.set_title('Confusion Matrix') \n",
    "print(classification_report(test_labels_trees, y_pred_cycle_trees))"
   ]
  },
  {
   "cell_type": "code",
   "execution_count": 18,
   "id": "6e7cd6f8-59aa-4b8b-a25c-460af33fba4a",
   "metadata": {},
   "outputs": [
    {
     "data": {
      "image/png": "[encoded data removed]",
      "text/plain": [
       "<Figure size 360x360 with 1 Axes>"
      ]
     },
     "metadata": {
      "needs_background": "light"
     },
     "output_type": "display_data"
    }
   ],
   "source": [
    "plot = tree.plot_tree(fitted, filled = True)"
   ]
  },
  {
   "cell_type": "markdown",
   "id": "11da4dde-eaf5-4be4-bfa8-aacd69f55b24",
   "metadata": {},
   "source": [
    "##### Kurzer test mit Randomforest:"
   ]
  },
  {
   "cell_type": "code",
   "execution_count": 661,
   "id": "2cf9b080",
   "metadata": {
    "tags": []
   },
   "outputs": [
    {
     "name": "stdout",
     "output_type": "stream",
     "text": [
      "(999, 9)\n"
     ]
    },
    {
     "data": {
      "image/png": "[encoded data removed]",
      "text/plain": [
       "<Figure size 360x360 with 2 Axes>"
      ]
     },
     "metadata": {
      "needs_background": "light"
     },
     "output_type": "display_data"
    },
    {
     "name": "stdout",
     "output_type": "stream",
     "text": [
      "              precision    recall  f1-score   support\n",
      "\n",
      "           0       0.98      0.99      0.98       285\n",
      "           1       0.95      0.82      0.88        45\n",
      "           2       0.80      1.00      0.89         4\n",
      "\n",
      "    accuracy                           0.97       334\n",
      "   macro avg       0.91      0.94      0.92       334\n",
      "weighted avg       0.97      0.97      0.97       334\n",
      "\n"
     ]
    }
   ],
   "source": [
    "model = RandomForestRegressor()\n",
    "fitted = model.fit(train_input_trees, train_labels_trees)\n",
    "print(train_input_trees.shape)\n",
    "# Round up prediction labels as integers\n",
    "label_prediction_forest = model.predict(test_input_trees)\n",
    "\n",
    "result = pd.DataFrame()\n",
    "bins = [0, 0.5, 1.5, 2.5]\n",
    "result['prediction'] = label_prediction_forest\n",
    "result['prediction_charges_level'] = pd.cut(result['prediction'],\n",
    "                                            bins=bins, # use bins from before\n",
    "                                            labels=bin_labels, \n",
    "                                            include_lowest=True)\n",
    "\n",
    "result['actual'] = test_labels_trees\n",
    "result['actual_charges_level'] = pd.cut(result['actual'], \n",
    "                                        bins=bins, \n",
    "                                        labels=bin_labels, \n",
    "                                        include_lowest=True)\n",
    "\n",
    "\n",
    "cm = confusion_matrix(result[\"actual_charges_level\"], result[\"prediction_charges_level\"])\n",
    "\n",
    "ax= plt.subplot()\n",
    "sn.heatmap(cm, annot=True, fmt='g', ax=ax);  #annot=True to annotate cells, ftm='g' to disable scientific notation\n",
    "\n",
    "# labels, title and ticks\n",
    "ax.set_xlabel('Predicted labels')\n",
    "ax.set_ylabel('True labels')\n",
    "ax.set_title('Confusion Matrix') \n",
    "plt.show()\n",
    "\n",
    "print(classification_report(result[\"actual_charges_level\"], result[\"prediction_charges_level\"]))"
   ]
  },
  {
   "cell_type": "markdown",
   "id": "6ecaea75-78df-4f16-a817-58195162eee8",
   "metadata": {},
   "source": [
    "Die folgenden drei Code Abschnitte zeigen das Pruning des Alpha-Parameters der Ridge Regression. Dieser ist optimal bei 0 und die Regression ist somit gleich wie die Linear Regression. Ridge Regression braucht man bei wenigen Einträgen (Personen in unserem Fall) und man zu wenige Trainingsdaten hat, um das Modell zu testen, welches man dann mit Testdaten testet. Da unser bestes Alpha meistens 0 war, heisst das, die Regularisierung macht keine Verbesserung und ist sogar schlecht für das Modell. Das heisst das Modell ist schon genug gut mit der gewöhnlichen Linear Regression Formel beschrieben: $Y_i=f(X_i, \\beta)+e_i$"
   ]
  },
  {
   "cell_type": "code",
   "execution_count": 662,
   "id": "daad187c",
   "metadata": {
    "tags": []
   },
   "outputs": [
    {
     "data": {
      "image/png": "[encoded data removed]",
      "text/plain": [
       "<Figure size 1440x360 with 2 Axes>"
      ]
     },
     "metadata": {
      "needs_background": "light"
     },
     "output_type": "display_data"
    },
    {
     "name": "stdout",
     "output_type": "stream",
     "text": [
      "Mean Absolute Error min value: 756.4610034429185\n",
      "Alpha value for Mean Absolute Error min value: 0.0\n"
     ]
    }
   ],
   "source": [
    "maeArray = []\n",
    "\n",
    "alphaRange = np.linspace(0, 1000, 1000)\n",
    "for i in alphaRange:  \n",
    "    RidgeRegressor = Ridge(alpha = i)\n",
    "    ridge_regul = RidgeRegressor.fit(train_input1, train_labels1)\n",
    "    predics = RidgeRegressor.predict(test_input_all[np.where(y_pred_cycle_trees == 0)])\n",
    "    \n",
    "    #print(predics_categorized.to_numpy(), test_labels_categorized.to_numpy())\n",
    "    #print(i)\n",
    "    try:\n",
    "        mae = mean_absolute_error(np.exp(test_labels_all[np.where(y_pred_cycle_trees == 0)]),  np.exp(predics))\n",
    "    except ValueError:\n",
    "        pass\n",
    "        #print(\"Oops!  That was no valid number.  Try again...\", ValueError)\n",
    "    maeArray.append(mae)\n",
    "\n",
    "\n",
    "plt.rcParams[\"figure.figsize\"] = (20,5)  \n",
    "\n",
    "fig1, ax1 = plt.subplots() # two axes on figure\n",
    "\n",
    "ax2 = ax1.twinx()\n",
    "ax2.plot(alphaRange, maeArray, label=\"Mean Absolute Error\")\n",
    "ax2.set_xlabel(\"Ridge Regression Alpha Value\")\n",
    "ax2.set_ylabel(\"Mean Absolute Error\")\n",
    "\n",
    "plt.title(\"Metriken Plot über verschiedene Alpha Werte\")\n",
    "plt.legend()\n",
    "plt.show()\n",
    "\n",
    "print(\"Mean Absolute Error min value:\", np.amin(maeArray))\n",
    "print(\"Alpha value for Mean Absolute Error min value:\", alphaRange[np.where(maeArray == np.amin(maeArray))][0])"
   ]
  },
  {
   "cell_type": "code",
   "execution_count": 663,
   "id": "9fa96791",
   "metadata": {},
   "outputs": [
    {
     "data": {
      "image/png": "[encoded data removed]",
      "text/plain": [
       "<Figure size 1440x360 with 2 Axes>"
      ]
     },
     "metadata": {
      "needs_background": "light"
     },
     "output_type": "display_data"
    },
    {
     "name": "stdout",
     "output_type": "stream",
     "text": [
      "Mean Absolute Error min value: 1636.0945143697427\n",
      "Alpha value for Mean Absolute Error min value: 0.0\n"
     ]
    }
   ],
   "source": [
    "maeArray = []\n",
    "\n",
    "alphaRange = np.linspace(0, 1000, 1000)\n",
    "for i in alphaRange:  \n",
    "    RidgeRegressor = Ridge(alpha = i)\n",
    "    ridge_regul = RidgeRegressor.fit(train_input2, train_labels2)\n",
    "    predics = RidgeRegressor.predict(test_input_all[np.where(y_pred_cycle_trees == 1)])\n",
    "    \n",
    "    #print(predics_categorized.to_numpy(), test_labels_categorized.to_numpy())\n",
    "    #print(i)\n",
    "    try:\n",
    "        mae = mean_absolute_error(np.exp(test_labels_all[np.where(y_pred_cycle_trees == 1)]),  np.exp(predics))\n",
    "    except ValueError:\n",
    "        pass\n",
    "        #print(\"Oops!  That was no valid number.  Try again...\", ValueError)\n",
    "    maeArray.append(mae)\n",
    "\n",
    "\n",
    "plt.rcParams[\"figure.figsize\"] = (20,5)  \n",
    "\n",
    "fig1, ax1 = plt.subplots() # two axes on figure\n",
    "\n",
    "ax2 = ax1.twinx()\n",
    "ax2.plot(alphaRange, maeArray, label=\"Mean Absolute Error\")\n",
    "ax2.set_xlabel(\"Ridge Regression Alpha Value\")\n",
    "ax2.set_ylabel(\"Mean Absolute Error\")\n",
    "\n",
    "plt.title(\"Metriken Plot über verschiedene Alpha Werte\")\n",
    "plt.legend()\n",
    "plt.show()\n",
    "\n",
    "print(\"Mean Absolute Error min value:\", np.amin(maeArray))\n",
    "print(\"Alpha value for Mean Absolute Error min value:\", alphaRange[np.where(maeArray == np.amin(maeArray))][0])"
   ]
  },
  {
   "cell_type": "code",
   "execution_count": 664,
   "id": "126c327c",
   "metadata": {},
   "outputs": [
    {
     "data": {
      "image/png": "[encoded data removed]",
      "text/plain": [
       "<Figure size 1440x360 with 2 Axes>"
      ]
     },
     "metadata": {
      "needs_background": "light"
     },
     "output_type": "display_data"
    },
    {
     "name": "stdout",
     "output_type": "stream",
     "text": [
      "Mean Absolute Error min value: 10007.163157997229\n",
      "Alpha value for Mean Absolute Error min value: 0.0\n"
     ]
    }
   ],
   "source": [
    "maeArray = []\n",
    "\n",
    "alphaRange = np.linspace(0, 1000, 10000)\n",
    "for i in alphaRange:  \n",
    "    RidgeRegressor = Ridge(alpha = i)\n",
    "    ridge_regul = RidgeRegressor.fit(train_input_all, train_labels_all)\n",
    "    predics = RidgeRegressor.predict(test_input_all[np.where(y_pred_cycle_trees == 2)])\n",
    "    \n",
    "    #print(predics_categorized.to_numpy(), test_labels_categorized.to_numpy())\n",
    "    #print(i)\n",
    "    try:\n",
    "        mae = mean_absolute_error(np.exp(test_labels_all[np.where(y_pred_cycle_trees == 2)]), np.exp(predics))\n",
    "    except ValueError:\n",
    "        pass\n",
    "        #print(\"Oops!  That was no valid number.  Try again...\", ValueError)\n",
    "    maeArray.append(mae)\n",
    "\n",
    "\n",
    "plt.rcParams[\"figure.figsize\"] = (20,5)  \n",
    "\n",
    "fig1, ax1 = plt.subplots() # two axes on figure\n",
    "\n",
    "ax2 = ax1.twinx()\n",
    "ax2.plot(alphaRange, maeArray, label=\"Mean Absolute Error\")\n",
    "ax2.set_xlabel(\"Ridge Regression Alpha Value\")\n",
    "ax2.set_ylabel(\"Mean Absolute Error\")\n",
    "\n",
    "plt.title(\"Metriken Plot über verschiedene Alpha Werte\")\n",
    "plt.legend()\n",
    "plt.show()\n",
    "\n",
    "print(\"Mean Absolute Error min value:\", np.amin(maeArray))\n",
    "print(\"Alpha value for Mean Absolute Error min value:\", alphaRange[np.where(maeArray == np.amin(maeArray))][0])"
   ]
  },
  {
   "cell_type": "markdown",
   "id": "9bea4bd3-d7ad-4a8a-8b21-43df8df2d1fd",
   "metadata": {},
   "source": [
    "#### Beweis, dass wenn man nur Regression macht ohne zuerst Decision Trees, die 3. Kategorie noch viel schlechter vorausgesagt wird: "
   ]
  },
  {
   "cell_type": "code",
   "execution_count": 665,
   "id": "56afea25-f7bb-4819-8bd7-922c6e16ea74",
   "metadata": {},
   "outputs": [
    {
     "name": "stdout",
     "output_type": "stream",
     "text": [
      "labels true 3rd level:  [39266. 38475. 38105. 37699.]\n",
      "prediction 3rd level:  [22466.01086306 26374.51088243 26275.39838998 30900.09309873]\n",
      "maximum occured test value:  39265.99999999999\n",
      "maximum predicted value: 30900.093098733963\n"
     ]
    },
    {
     "data": {
      "image/png": "[encoded data removed]",
      "text/plain": [
       "<Figure size 360x360 with 2 Axes>"
      ]
     },
     "metadata": {
      "needs_background": "light"
     },
     "output_type": "display_data"
    }
   ],
   "source": [
    "RidgeRegressor = Ridge(alpha = 0)\n",
    "ridge_regul = RidgeRegressor.fit(train_input_all, train_labels_all)\n",
    "predics = RidgeRegressor.predict(test_input_all)\n",
    "\n",
    "#print(predics_categorized.to_numpy(), test_labels_categorized.to_numpy())\n",
    "#print(i)\n",
    "mae = mean_absolute_error(np.exp(test_labels_all), np.exp(predics))\n",
    "\n",
    "#print(np.exp(predics), np.exp(test_labels_all))\n",
    "print(\"labels true 3rd level: \", np.exp(test_labels_all)[np.where(np.exp(test_labels_all) > 29999)])\n",
    "print(\"prediction 3rd level: \", np.exp(predics)[np.where(np.exp(test_labels_all) > 29999)])\n",
    "print(\"maximum occured test value: \", np.exp(np.max(test_labels_all)))\n",
    "print(\"maximum predicted value:\" ,np.exp(np.max(predics)))\n",
    "\n",
    "bins = [1, 10000, 30000, 10000000]\n",
    "result['prediction'] = np.exp(predics)\n",
    "result['prediction_charges_level'] = pd.cut(result['prediction'],\n",
    "                                            bins=bins, # use bins from before\n",
    "                                            labels=bin_labels, \n",
    "                                            include_lowest=True)\n",
    "\n",
    "result['actual'] = np.exp(test_labels_all)\n",
    "result['actual_charges_level'] = pd.cut(result['actual'], \n",
    "                                        bins=bins, \n",
    "                                        labels=bin_labels, \n",
    "                                        include_lowest=True)\n",
    "\n",
    "\n",
    "cm = confusion_matrix(result[\"actual_charges_level\"], result[\"prediction_charges_level\"])\n",
    "plt.rcParams['figure.figsize'] = [5, 5]\n",
    "ax= plt.subplot()\n",
    "sn.heatmap(cm, annot=True, fmt='g', ax=ax);  #annot=True to annotate cells, ftm='g' to disable scientific notation\n",
    "\n",
    "# labels, title and ticks\n",
    "ax.set_xlabel('Predicted labels')\n",
    "ax.set_ylabel('True labels')\n",
    "ax.set_title('Confusion Matrix') \n",
    "plt.show()"
   ]
  },
  {
   "cell_type": "markdown",
   "id": "6787e00f-fae9-445f-bed3-d52e0c3705e4",
   "metadata": {},
   "source": [
    "##### MAE zwischen den Kategorien:"
   ]
  },
  {
   "cell_type": "code",
   "execution_count": 669,
   "id": "e3fed530",
   "metadata": {},
   "outputs": [
    {
     "name": "stdout",
     "output_type": "stream",
     "text": [
      "third level predict:  [33555.31152876 36804.33734682 33420.23693909 34482.9916612\n",
      " 39050.83465354 35568.40158454] third level true labels:  [23518. 39266. 38475. 25518. 38105. 37699.]\n",
      "mean absolute error third level:  4932.526995508137\n",
      "mean absolute error second level:  1636.0945143697427\n",
      "mean absolute error first level:  756.4610034429185\n"
     ]
    }
   ],
   "source": [
    "RidgeRegressor1 = Ridge(alpha = 0) #RandomForestRegressor() for lols\n",
    "ridge_first_level = RidgeRegressor1.fit(train_input1, train_labels1)\n",
    "first_level_predict = ridge_first_level.predict(test_input_all[np.where(y_pred_cycle_trees == 0)])\n",
    "\n",
    "RidgeRegressor2 = Ridge(alpha = 0) #RandomForestRegressor() for lols\n",
    "ridge_second_level = RidgeRegressor2.fit(train_input2, train_labels2)\n",
    "\n",
    "second_level_predict = ridge_second_level.predict(test_input_all[np.where(y_pred_cycle_trees == 1)])\n",
    "\n",
    "if(test_input_all[np.where(y_pred_cycle_trees == 0)].size != 0):\n",
    "    RidgeRegressor3 = Ridge(alpha = 0) #RandomForestRegressor() for lols\n",
    "    ridge_third_level = RidgeRegressor3.fit(train_input3, train_labels3)\n",
    "\n",
    "    third_level_predict = ridge_third_level.predict(test_input_all[np.where(y_pred_cycle_trees == 2)])\n",
    "\n",
    "    mae_third_level = mean_absolute_error(np.exp(third_level_predict), np.exp(test_labels_all[np.where(y_pred_cycle_trees == 2)]))\n",
    "\n",
    "mae_second_level = mean_absolute_error(np.exp(second_level_predict), np.exp(test_labels_all[np.where(y_pred_cycle_trees == 1)]))\n",
    "mae_first_level = mean_absolute_error(np.exp(first_level_predict), np.exp(test_labels_all[np.where(y_pred_cycle_trees == 0)]))\n",
    "\n",
    "print(\"third level predict: \", np.exp(third_level_predict), \"third level true labels: \", np.exp(test_labels_all[np.where(y_pred_cycle_trees == 2)]))\n",
    "\n",
    "print(\"mean absolute error third level: \", mae_third_level)\n",
    "\n",
    "print(\"mean absolute error second level: \", mae_second_level)\n",
    "\n",
    "print(\"mean absolute error first level: \", mae_first_level)"
   ]
  },
  {
   "cell_type": "code",
   "execution_count": 670,
   "id": "0c893783",
   "metadata": {},
   "outputs": [
    {
     "data": {
      "image/png": "[encoded data removed]",
      "text/plain": [
       "<Figure size 360x216 with 1 Axes>"
      ]
     },
     "metadata": {
      "needs_background": "light"
     },
     "output_type": "display_data"
    }
   ],
   "source": [
    "plt.rcParams['figure.figsize'] = [5, 3]\n",
    "fig = plt.figure()\n",
    "ax = fig.add_axes([0,0,1,1])\n",
    "bins = [ '1. Kategorie', '2. Kategorie','3. Kategorie']\n",
    "mae = [mae_first_level, mae_second_level, mae_third_level]\n",
    "ax.bar(bins,mae)\n",
    "ax.set_title(\"Vergleich ØFehler\")\n",
    "plt.show()"
   ]
  },
  {
   "cell_type": "code",
   "execution_count": 667,
   "id": "6558dd29",
   "metadata": {},
   "outputs": [
    {
     "name": "stdout",
     "output_type": "stream",
     "text": [
      "[23518. 39266. 38475. 25518. 38105. 37699.] [33555.31152876 36804.33734682 33420.23693909 34482.9916612\n",
      " 39050.83465354 35568.40158454]\n",
      "r2 third level:  0.16017141258567358\n",
      "r2 second level:  0.7642724480127991\n",
      "r2 first level:  0.8094889629615014\n"
     ]
    },
    {
     "data": {
      "image/png": "[encoded data removed]",
      "text/plain": [
       "<Figure size 360x360 with 1 Axes>"
      ]
     },
     "metadata": {
      "needs_background": "light"
     },
     "output_type": "display_data"
    }
   ],
   "source": [
    "print(np.exp(test_labels_all[np.where(y_pred_cycle_trees == 2)]), np.exp(third_level_predict))\n",
    "\n",
    "r2_third_level = r2_score(np.exp(test_labels_all[np.where(y_pred_cycle_trees == 2)]), np.exp(third_level_predict))\n",
    "r2_second_level = r2_score(np.exp(test_labels_all[np.where(y_pred_cycle_trees == 1)]), np.exp(second_level_predict))\n",
    "r2_first_level = r2_score(np.exp(test_labels_all[np.where(y_pred_cycle_trees == 0)]), np.exp(first_level_predict))\n",
    "\n",
    "print(\"r2 third level: \", r2_third_level)\n",
    "\n",
    "print(\"r2 second level: \", r2_second_level)\n",
    "\n",
    "print(\"r2 first level: \", r2_first_level)\n",
    "\n",
    "fig = plt.figure()\n",
    "ax = fig.add_axes([0,0,1,1])\n",
    "bins = ['third_level', 'second_level', 'first_level']\n",
    "mae = [r2_third_level, r2_second_level, r2_first_level]\n",
    "ax.bar(bins,mae)\n",
    "ax.set_title(\"R2 Score Comparison\")\n",
    "plt.show()"
   ]
  },
  {
   "cell_type": "markdown",
   "id": "ae3f746f-3de7-49ca-b386-2410b4b510f8",
   "metadata": {},
   "source": [
    "Die Variabeln für die Regressoren:"
   ]
  },
  {
   "cell_type": "code",
   "execution_count": 668,
   "id": "380eb84f",
   "metadata": {},
   "outputs": [
    {
     "name": "stdout",
     "output_type": "stream",
     "text": [
      "[array([0.02011793, 0.04066047, 0.02011428, 0.76583147, 0.06215812,\n",
      "       0.01576926]), 5.867401599598493]\n",
      "[array([0.02315508, 0.076616  , 0.0298905 , 0.83390707, 0.07028957,\n",
      "       0.00165595]), 5.323291143139056]\n",
      "[array([ 7.26998079e-03,  2.79610370e-02, -3.94544811e-03,  6.76586458e-18,\n",
      "        3.12854704e-03, -3.37111658e-03]), 9.316784622901162]\n",
      "age\n",
      "bmi\n",
      "children\n",
      "smoker\n",
      "canton\n",
      "pbf\n",
      "charges\n",
      "charges_level\n"
     ]
    }
   ],
   "source": [
    "print([RidgeRegressor1.coef_, RidgeRegressor1.intercept_]) \n",
    "print([RidgeRegressor2.coef_, RidgeRegressor2.intercept_]) \n",
    "print([RidgeRegressor3.coef_, RidgeRegressor3.intercept_]) \n",
    "for col in temp_data.drop('sex', axis = 1).columns:\n",
    "    print(col)"
   ]
  },
  {
   "cell_type": "markdown",
   "id": "ba275534-8552-4fe4-83ec-a38e0b25ee31",
   "metadata": {},
   "source": [
    "Die Variabeln für die Regression der 3. Kategorie scheinen komisch zu sein. Womöglich durch zu wenige Vorkomnisse?"
   ]
  },
  {
   "cell_type": "markdown",
   "id": "346baaab-899d-4b6f-8d68-a6527c3f50c6",
   "metadata": {},
   "source": [
    "T Verteilung:\n",
    "\n",
    "Daten:\n",
    "\n",
    "1. "
   ]
  },
  {
   "cell_type": "code",
   "execution_count": 671,
   "id": "9b2b84dc",
   "metadata": {},
   "outputs": [
    {
     "name": "stdout",
     "output_type": "stream",
     "text": [
      "def tree(age, bmi, children, smoker, pbf, so, ag, bs, bl):\n",
      "  if bmi <= 29.682000160217285:\n",
      "    if smoker <= 0.5:\n",
      "      if pbf <= 44.53999900817871:\n",
      "        return 1.000000000;\n",
      "      else:  # if pbf > 44.53999900817871\n",
      "        if age <= 60.0:\n",
      "          return 1.000000000;\n",
      "        else:  # if age > 60.0\n",
      "          return 0.000000000;\n",
      "    else:  # if smoker > 0.5\n",
      "      if age <= 54.5:\n",
      "        if bmi <= 26.564000129699707:\n",
      "          if bs <= 0.5:\n",
      "            return 1.000000000;\n",
      "          else:  # if bs > 0.5\n",
      "            if age <= 38.5:\n",
      "              return 1.000000000;\n",
      "            else:  # if age > 38.5\n",
      "              if bmi <= 23.37600040435791:\n",
      "                return 1.000000000;\n",
      "              else:  # if bmi > 23.37600040435791\n",
      "                return 0.000000000;\n",
      "        else:  # if bmi > 26.564000129699707\n",
      "          if age <= 30.0:\n",
      "            return 1.000000000;\n",
      "          else:  # if age > 30.0\n",
      "            if bmi <= 27.07200050354004:\n",
      "              if children <= 0.5:\n",
      "                return 1.000000000;\n",
      "              else:  # if children > 0.5\n",
      "                return 0.000000000;\n",
      "            else:  # if bmi > 27.07200050354004\n",
      "              return 0.000000000;\n",
      "      else:  # if age > 54.5\n",
      "        if bmi <= 21.05799961090088:\n",
      "          return 1.000000000;\n",
      "        else:  # if bmi > 21.05799961090088\n",
      "          return 0.000000000;\n",
      "  else:  # if bmi > 29.682000160217285\n",
      "    if smoker <= 0.5:\n",
      "      if age <= 49.5:\n",
      "        if bmi <= 34.007999420166016:\n",
      "          return 1.000000000;\n",
      "        else:  # if bmi > 34.007999420166016\n",
      "          if age <= 31.0:\n",
      "            return 1.000000000;\n",
      "          else:  # if age > 31.0\n",
      "            if bs <= 0.5:\n",
      "              if bmi <= 36.53399848937988:\n",
      "                if pbf <= 56.92499923706055:\n",
      "                  return 1.000000000;\n",
      "                else:  # if pbf > 56.92499923706055\n",
      "                  return 0.000000000;\n",
      "              else:  # if bmi > 36.53399848937988\n",
      "                if age <= 33.5:\n",
      "                  if bmi <= 38.70000076293945:\n",
      "                    return 0.000000000;\n",
      "                  else:  # if bmi > 38.70000076293945\n",
      "                    return 1.000000000;\n",
      "                else:  # if age > 33.5\n",
      "                  return 0.000000000;\n",
      "            else:  # if bs > 0.5\n",
      "              return 0.000000000;\n",
      "      else:  # if age > 49.5\n",
      "        if bmi <= 34.1200008392334:\n",
      "          if bs <= 0.5:\n",
      "            if age <= 60.5:\n",
      "              if bmi <= 32.06800079345703:\n",
      "                return 1.000000000;\n",
      "              else:  # if bmi > 32.06800079345703\n",
      "                if ag <= 0.5:\n",
      "                  if age <= 57.5:\n",
      "                    if pbf <= 51.60999870300293:\n",
      "                      return 1.000000000;\n",
      "                    else:  # if pbf > 51.60999870300293\n",
      "                      return 0.000000000;\n",
      "                  else:  # if age > 57.5\n",
      "                    return 0.000000000;\n",
      "                else:  # if ag > 0.5\n",
      "                  return 1.000000000;\n",
      "            else:  # if age > 60.5\n",
      "              if bmi <= 31.49400043487549:\n",
      "                if ag <= 0.5:\n",
      "                  return 0.000000000;\n",
      "                else:  # if ag > 0.5\n",
      "                  return 1.000000000;\n",
      "              else:  # if bmi > 31.49400043487549\n",
      "                return 0.000000000;\n",
      "          else:  # if bs > 0.5\n",
      "            return 0.000000000;\n",
      "        else:  # if bmi > 34.1200008392334\n",
      "          return 0.000000000;\n",
      "    else:  # if smoker > 0.5\n",
      "      if age <= 30.5:\n",
      "        if pbf <= 33.97999954223633:\n",
      "          if age <= 29.5:\n",
      "            return 1.000000000;\n",
      "          else:  # if age > 29.5\n",
      "            if bmi <= 30.731999397277832:\n",
      "              return 0.000000000;\n",
      "            else:  # if bmi > 30.731999397277832\n",
      "              return 1.000000000;\n",
      "        else:  # if pbf > 33.97999954223633\n",
      "          if age <= 21.5:\n",
      "            if bmi <= 37.24800109863281:\n",
      "              return 1.000000000;\n",
      "            else:  # if bmi > 37.24800109863281\n",
      "              return 0.000000000;\n",
      "          else:  # if age > 21.5\n",
      "            return 0.000000000;\n",
      "      else:  # if age > 30.5\n",
      "        if bmi <= 31.395999908447266:\n",
      "          return 0.000000000;\n",
      "        else:  # if bmi > 31.395999908447266\n",
      "          if age <= 51.5:\n",
      "            if bmi <= 35.487998962402344:\n",
      "              if age <= 43.5:\n",
      "                return 0.000000000;\n",
      "              else:  # if age > 43.5\n",
      "                if ag <= 0.5:\n",
      "                  return 0.000000000;\n",
      "                else:  # if ag > 0.5\n",
      "                  return 0.000000000;\n",
      "            else:  # if bmi > 35.487998962402344\n",
      "              return 0.000000000;\n",
      "          else:  # if age > 51.5\n",
      "            return 0.000000000;\n"
     ]
    }
   ],
   "source": [
    "from sklearn.tree import _tree\n",
    "\n",
    "def tree_to_code1(tree, feature_names):\n",
    "    tree_ = tree.tree_\n",
    "    feature_name = [feature_names[i] if i != _tree.TREE_UNDEFINED else \"undefined!\" for i in tree_.feature]\n",
    "    print(\"def tree({}):\".format(\", \".join(feature_names)))\n",
    "\n",
    "    def recurse(node, depth):\n",
    "        indent = \"  \" * depth\n",
    "        if tree_.feature[node] != _tree.TREE_UNDEFINED:\n",
    "            name = feature_name[node]\n",
    "            threshold = tree_.threshold[node]\n",
    "            print(\"{}if {} <= {}:\".format(indent, name, threshold))\n",
    "            recurse(tree_.children_left[node], depth + 1)\n",
    "            print(\"{}else:  # if {} > {}\".format(indent, name, threshold))\n",
    "            recurse(tree_.children_right[node], depth + 1)\n",
    "        else:\n",
    "            print(\"{}return {:0.9f};\".format(indent, tree_.value[node][0][0] / sum(tree_.value[node][0])))\n",
    "\n",
    "    recurse(0, 1)\n",
    "    \n",
    "tree_to_code1(decision_model, [\"age\", \"bmi\", \"children\", \"smoker\", \"pbf\", \"so\", \"ag\", \"bs\", \"bl\"])"
   ]
  },
  {
   "cell_type": "code",
   "execution_count": 672,
   "id": "b942a69f",
   "metadata": {},
   "outputs": [
    {
     "name": "stdout",
     "output_type": "stream",
     "text": [
      "text representation of tree |--- feature_1 <= 29.68\n",
      "|   |--- feature_3 <= 0.50\n",
      "|   |   |--- feature_4 <= 44.54\n",
      "|   |   |   |--- class: 0\n",
      "|   |   |--- feature_4 >  44.54\n",
      "|   |   |   |--- feature_0 <= 60.00\n",
      "|   |   |   |   |--- class: 0\n",
      "|   |   |   |--- feature_0 >  60.00\n",
      "|   |   |   |   |--- class: 1\n",
      "|   |--- feature_3 >  0.50\n",
      "|   |   |--- feature_0 <= 54.50\n",
      "|   |   |   |--- feature_1 <= 26.56\n",
      "|   |   |   |   |--- feature_7 <= 0.50\n",
      "|   |   |   |   |   |--- class: 0\n",
      "|   |   |   |   |--- feature_7 >  0.50\n",
      "|   |   |   |   |   |--- feature_0 <= 38.50\n",
      "|   |   |   |   |   |   |--- class: 0\n",
      "|   |   |   |   |   |--- feature_0 >  38.50\n",
      "|   |   |   |   |   |   |--- feature_1 <= 23.38\n",
      "|   |   |   |   |   |   |   |--- class: 0\n",
      "|   |   |   |   |   |   |--- feature_1 >  23.38\n",
      "|   |   |   |   |   |   |   |--- class: 1\n",
      "|   |   |   |--- feature_1 >  26.56\n",
      "|   |   |   |   |--- feature_0 <= 30.00\n",
      "|   |   |   |   |   |--- class: 0\n",
      "|   |   |   |   |--- feature_0 >  30.00\n",
      "|   |   |   |   |   |--- feature_1 <= 27.07\n",
      "|   |   |   |   |   |   |--- feature_2 <= 0.50\n",
      "|   |   |   |   |   |   |   |--- class: 0\n",
      "|   |   |   |   |   |   |--- feature_2 >  0.50\n",
      "|   |   |   |   |   |   |   |--- class: 1\n",
      "|   |   |   |   |   |--- feature_1 >  27.07\n",
      "|   |   |   |   |   |   |--- class: 1\n",
      "|   |   |--- feature_0 >  54.50\n",
      "|   |   |   |--- feature_1 <= 21.06\n",
      "|   |   |   |   |--- class: 0\n",
      "|   |   |   |--- feature_1 >  21.06\n",
      "|   |   |   |   |--- class: 1\n",
      "|--- feature_1 >  29.68\n",
      "|   |--- feature_3 <= 0.50\n",
      "|   |   |--- feature_0 <= 49.50\n",
      "|   |   |   |--- feature_1 <= 34.01\n",
      "|   |   |   |   |--- class: 0\n",
      "|   |   |   |--- feature_1 >  34.01\n",
      "|   |   |   |   |--- feature_0 <= 31.00\n",
      "|   |   |   |   |   |--- class: 0\n",
      "|   |   |   |   |--- feature_0 >  31.00\n",
      "|   |   |   |   |   |--- feature_7 <= 0.50\n",
      "|   |   |   |   |   |   |--- feature_1 <= 36.53\n",
      "|   |   |   |   |   |   |   |--- feature_4 <= 56.92\n",
      "|   |   |   |   |   |   |   |   |--- class: 0\n",
      "|   |   |   |   |   |   |   |--- feature_4 >  56.92\n",
      "|   |   |   |   |   |   |   |   |--- class: 1\n",
      "|   |   |   |   |   |   |--- feature_1 >  36.53\n",
      "|   |   |   |   |   |   |   |--- feature_0 <= 33.50\n",
      "|   |   |   |   |   |   |   |   |--- feature_1 <= 38.70\n",
      "|   |   |   |   |   |   |   |   |   |--- class: 1\n",
      "|   |   |   |   |   |   |   |   |--- feature_1 >  38.70\n",
      "|   |   |   |   |   |   |   |   |   |--- class: 0\n",
      "|   |   |   |   |   |   |   |--- feature_0 >  33.50\n",
      "|   |   |   |   |   |   |   |   |--- class: 1\n",
      "|   |   |   |   |   |--- feature_7 >  0.50\n",
      "|   |   |   |   |   |   |--- class: 1\n",
      "|   |   |--- feature_0 >  49.50\n",
      "|   |   |   |--- feature_1 <= 34.12\n",
      "|   |   |   |   |--- feature_7 <= 0.50\n",
      "|   |   |   |   |   |--- feature_0 <= 60.50\n",
      "|   |   |   |   |   |   |--- feature_1 <= 32.07\n",
      "|   |   |   |   |   |   |   |--- class: 0\n",
      "|   |   |   |   |   |   |--- feature_1 >  32.07\n",
      "|   |   |   |   |   |   |   |--- feature_6 <= 0.50\n",
      "|   |   |   |   |   |   |   |   |--- feature_0 <= 57.50\n",
      "|   |   |   |   |   |   |   |   |   |--- feature_4 <= 51.61\n",
      "|   |   |   |   |   |   |   |   |   |   |--- class: 0\n",
      "|   |   |   |   |   |   |   |   |   |--- feature_4 >  51.61\n",
      "|   |   |   |   |   |   |   |   |   |   |--- class: 1\n",
      "|   |   |   |   |   |   |   |   |--- feature_0 >  57.50\n",
      "|   |   |   |   |   |   |   |   |   |--- class: 1\n",
      "|   |   |   |   |   |   |   |--- feature_6 >  0.50\n",
      "|   |   |   |   |   |   |   |   |--- class: 0\n",
      "|   |   |   |   |   |--- feature_0 >  60.50\n",
      "|   |   |   |   |   |   |--- feature_1 <= 31.49\n",
      "|   |   |   |   |   |   |   |--- feature_6 <= 0.50\n",
      "|   |   |   |   |   |   |   |   |--- class: 1\n",
      "|   |   |   |   |   |   |   |--- feature_6 >  0.50\n",
      "|   |   |   |   |   |   |   |   |--- class: 0\n",
      "|   |   |   |   |   |   |--- feature_1 >  31.49\n",
      "|   |   |   |   |   |   |   |--- class: 1\n",
      "|   |   |   |   |--- feature_7 >  0.50\n",
      "|   |   |   |   |   |--- class: 1\n",
      "|   |   |   |--- feature_1 >  34.12\n",
      "|   |   |   |   |--- class: 1\n",
      "|   |--- feature_3 >  0.50\n",
      "|   |   |--- feature_0 <= 30.50\n",
      "|   |   |   |--- feature_4 <= 33.98\n",
      "|   |   |   |   |--- feature_0 <= 29.50\n",
      "|   |   |   |   |   |--- class: 0\n",
      "|   |   |   |   |--- feature_0 >  29.50\n",
      "|   |   |   |   |   |--- feature_1 <= 30.73\n",
      "|   |   |   |   |   |   |--- class: 1\n",
      "|   |   |   |   |   |--- feature_1 >  30.73\n",
      "|   |   |   |   |   |   |--- class: 0\n",
      "|   |   |   |--- feature_4 >  33.98\n",
      "|   |   |   |   |--- feature_0 <= 21.50\n",
      "|   |   |   |   |   |--- feature_1 <= 37.25\n",
      "|   |   |   |   |   |   |--- class: 0\n",
      "|   |   |   |   |   |--- feature_1 >  37.25\n",
      "|   |   |   |   |   |   |--- class: 1\n",
      "|   |   |   |   |--- feature_0 >  21.50\n",
      "|   |   |   |   |   |--- class: 1\n",
      "|   |   |--- feature_0 >  30.50\n",
      "|   |   |   |--- feature_1 <= 31.40\n",
      "|   |   |   |   |--- class: 1\n",
      "|   |   |   |--- feature_1 >  31.40\n",
      "|   |   |   |   |--- feature_0 <= 51.50\n",
      "|   |   |   |   |   |--- feature_1 <= 35.49\n",
      "|   |   |   |   |   |   |--- feature_0 <= 43.50\n",
      "|   |   |   |   |   |   |   |--- class: 1\n",
      "|   |   |   |   |   |   |--- feature_0 >  43.50\n",
      "|   |   |   |   |   |   |   |--- feature_6 <= 0.50\n",
      "|   |   |   |   |   |   |   |   |--- class: 2\n",
      "|   |   |   |   |   |   |   |--- feature_6 >  0.50\n",
      "|   |   |   |   |   |   |   |   |--- class: 1\n",
      "|   |   |   |   |   |--- feature_1 >  35.49\n",
      "|   |   |   |   |   |   |--- class: 2\n",
      "|   |   |   |   |--- feature_0 >  51.50\n",
      "|   |   |   |   |   |--- class: 2\n",
      "\n"
     ]
    }
   ],
   "source": [
    "text_representation = tree.export_text(decision_model)\n",
    "print(\"text representation of tree\", text_representation)"
   ]
  }
 ],
 "metadata": {
  "kernelspec": {
   "display_name": "Python 3",
   "language": "python",
   "name": "python3"
  },
  "language_info": {
   "codemirror_mode": {
    "name": "ipython",
    "version": 3
   },
   "file_extension": ".py",
   "mimetype": "text/x-python",
   "name": "python",
   "nbconvert_exporter": "python",
   "pygments_lexer": "ipython3",
   "version": "3.8.8"
  }
 },
 "nbformat": 4,
 "nbformat_minor": 5
}
