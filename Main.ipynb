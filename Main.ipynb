{
 "cells": [
  {
   "cell_type": "code",
   "execution_count": 1,
   "metadata": {},
   "outputs": [],
   "source": [
    "import pandas as pd \n",
    "import numpy as np\n",
    "import matplotlib.pyplot as plt"
   ]
  },
  {
   "cell_type": "markdown",
   "metadata": {},
   "source": [
    "Laden der Daten:"
   ]
  },
  {
   "cell_type": "code",
   "execution_count": 3,
   "metadata": {},
   "outputs": [
    {
     "data": {
      "text/html": [
       "<div>\n",
       "<style scoped>\n",
       "    .dataframe tbody tr th:only-of-type {\n",
       "        vertical-align: middle;\n",
       "    }\n",
       "\n",
       "    .dataframe tbody tr th {\n",
       "        vertical-align: top;\n",
       "    }\n",
       "\n",
       "    .dataframe thead th {\n",
       "        text-align: right;\n",
       "    }\n",
       "</style>\n",
       "<table border=\"1\" class=\"dataframe\">\n",
       "  <thead>\n",
       "    <tr style=\"text-align: right;\">\n",
       "      <th></th>\n",
       "      <th>age</th>\n",
       "      <th>sex</th>\n",
       "      <th>bmi</th>\n",
       "      <th>children</th>\n",
       "      <th>smoker</th>\n",
       "      <th>canton</th>\n",
       "      <th>pbf</th>\n",
       "      <th>charges</th>\n",
       "    </tr>\n",
       "  </thead>\n",
       "  <tbody>\n",
       "    <tr>\n",
       "      <th>1</th>\n",
       "      <td>19</td>\n",
       "      <td>w</td>\n",
       "      <td>24.720</td>\n",
       "      <td>0</td>\n",
       "      <td>ja</td>\n",
       "      <td>SO</td>\n",
       "      <td>35.94</td>\n",
       "      <td>4253</td>\n",
       "    </tr>\n",
       "    <tr>\n",
       "      <th>2</th>\n",
       "      <td>18</td>\n",
       "      <td>m</td>\n",
       "      <td>29.416</td>\n",
       "      <td>1</td>\n",
       "      <td>nein</td>\n",
       "      <td>AG</td>\n",
       "      <td>26.86</td>\n",
       "      <td>2494</td>\n",
       "    </tr>\n",
       "    <tr>\n",
       "      <th>3</th>\n",
       "      <td>28</td>\n",
       "      <td>m</td>\n",
       "      <td>28.800</td>\n",
       "      <td>3</td>\n",
       "      <td>nein</td>\n",
       "      <td>AG</td>\n",
       "      <td>26.92</td>\n",
       "      <td>3138</td>\n",
       "    </tr>\n",
       "    <tr>\n",
       "      <th>4</th>\n",
       "      <td>33</td>\n",
       "      <td>m</td>\n",
       "      <td>20.564</td>\n",
       "      <td>0</td>\n",
       "      <td>nein</td>\n",
       "      <td>BS</td>\n",
       "      <td>7.98</td>\n",
       "      <td>1553</td>\n",
       "    </tr>\n",
       "    <tr>\n",
       "      <th>5</th>\n",
       "      <td>32</td>\n",
       "      <td>m</td>\n",
       "      <td>25.504</td>\n",
       "      <td>0</td>\n",
       "      <td>nein</td>\n",
       "      <td>BS</td>\n",
       "      <td>21.84</td>\n",
       "      <td>2768</td>\n",
       "    </tr>\n",
       "  </tbody>\n",
       "</table>\n",
       "</div>"
      ],
      "text/plain": [
       "   age sex     bmi  children smoker canton    pbf  charges\n",
       "1   19   w  24.720         0     ja     SO  35.94     4253\n",
       "2   18   m  29.416         1   nein     AG  26.86     2494\n",
       "3   28   m  28.800         3   nein     AG  26.92     3138\n",
       "4   33   m  20.564         0   nein     BS   7.98     1553\n",
       "5   32   m  25.504         0   nein     BS  21.84     2768"
      ]
     },
     "execution_count": 3,
     "metadata": {},
     "output_type": "execute_result"
    }
   ],
   "source": [
    "data = pd.read_csv(\"data_insurance.csv\", sep = \";\", names = ['age', 'sex', 'bmi', 'children', 'smoker', 'canton', \"pbf\", 'charges'])\n",
    "data = data.iloc[1:]\n",
    "\n",
    "data['charges'] = data['charges'].str.replace(\"’\", \"\").apply(pd.to_numeric)\n",
    "data['pbf'] = data['pbf'].apply(pd.to_numeric)\n",
    "data['bmi'] = data['bmi'].apply(pd.to_numeric)\n",
    "data['age'] = data['age'].apply(pd.to_numeric)\n",
    "data['children'] = data['children'].apply(pd.to_numeric)\n",
    "data.head()"
   ]
  }
 ],
 "metadata": {
  "kernelspec": {
   "display_name": "Python 3",
   "language": "python",
   "name": "python3"
  },
  "language_info": {
   "codemirror_mode": {
    "name": "ipython",
    "version": 3
   },
   "file_extension": ".py",
   "mimetype": "text/x-python",
   "name": "python",
   "nbconvert_exporter": "python",
   "pygments_lexer": "ipython3",
   "version": "3.7.6"
  }
 },
 "nbformat": 4,
 "nbformat_minor": 4
}
