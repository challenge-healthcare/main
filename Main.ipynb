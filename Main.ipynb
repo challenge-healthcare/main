{
 "cells": [
  {
   "cell_type": "code",
   "execution_count": 78,
   "metadata": {},
   "outputs": [],
   "source": [
    "import pandas as pd \n",
    "import numpy as np\n",
    "import matplotlib.pyplot as plt\n",
    "import seaborn as sn\n",
    "\n",
    "\n",
    "from sklearn.metrics import plot_confusion_matrix\n",
    "from sklearn.metrics import confusion_matrix\n",
    "from sklearn.metrics import classification_report\n",
    "from sklearn.model_selection import train_test_split\n",
    "from sklearn import preprocessing\n",
    "from sklearn.metrics import mean_squared_error\n",
    "from sklearn.metrics import mean_absolute_error\n",
    "\n",
    "#SKLEARN?\n",
    "from sklearn.linear_model import Ridge\n",
    "from sklearn.linear_model import LogisticRegression\n",
    "from sklearn.ensemble import RandomForestRegressor"
   ]
  },
  {
   "cell_type": "markdown",
   "metadata": {},
   "source": [
    "Laden der Daten:"
   ]
  },
  {
   "cell_type": "code",
   "execution_count": 65,
   "metadata": {},
   "outputs": [
    {
     "name": "stdout",
     "output_type": "stream",
     "text": [
      "      age sex     bmi  children smoker canton    pbf  charges\n",
      "1      19   w  24.720         0     ja     SO  35.94     4253\n",
      "2      18   m  29.416         1   nein     AG  26.86     2494\n",
      "3      28   m  28.800         3   nein     AG  26.92     3138\n",
      "4      33   m  20.564         0   nein     BS   7.98     1553\n",
      "5      32   m  25.504         0   nein     BS  21.84     2768\n",
      "...   ...  ..     ...       ...    ...    ...    ...      ...\n",
      "1334   50   m  27.176         3   nein     BS  23.02     5767\n",
      "1335   18   w  27.936         0   nein     BL  42.18     2547\n",
      "1336   18   w  31.880         0   nein     AG  49.59     3026\n",
      "1337   21   w  23.040         0   nein     SO  31.18     2208\n",
      "1338   61   w  25.656         0     ja     BS  38.63    19007\n",
      "\n",
      "[1337 rows x 8 columns]\n"
     ]
    }
   ],
   "source": [
    "data = pd.read_csv(\"data_insurance.csv\", sep = \";\", names = ['age', 'sex', 'bmi', 'children', 'smoker', 'canton', \"pbf\", 'charges'])\n",
    "data = data.iloc[1:]\n",
    "\n",
    "data['charges'] = data['charges'].str.replace(\"’\", \"\").apply(pd.to_numeric)\n",
    "data['pbf'] = data['pbf'].apply(pd.to_numeric)\n",
    "data['bmi'] = data['bmi'].apply(pd.to_numeric)\n",
    "data['age'] = data['age'].apply(pd.to_numeric)\n",
    "data['children'] = data['children'].apply(pd.to_numeric)\n",
    "\n",
    "data = pd.read_csv(\"data_insurance.csv\", sep = \";\", names = ['age', 'sex', 'bmi', 'children', 'smoker', 'canton', \"pbf\", 'charges'])\n",
    "data = data.iloc[1:]\n",
    "\n",
    "data['charges'] = data['charges'].str.replace(\"’\", \"\").apply(pd.to_numeric)\n",
    "data['pbf'] = data['pbf'].apply(pd.to_numeric)\n",
    "data['bmi'] = data['bmi'].apply(pd.to_numeric)\n",
    "data['age'] = data['age'].apply(pd.to_numeric)\n",
    "data['children'] = data['children'].apply(pd.to_numeric)\n",
    "\n",
    "# 1 record with negative percentage of body fat.\n",
    "data = data[data[\"pbf\"]>0]\n",
    "data = data.dropna()\n",
    "print(data)"
   ]
  },
  {
   "cell_type": "code",
   "execution_count": 66,
   "metadata": {},
   "outputs": [
    {
     "name": "stdout",
     "output_type": "stream",
     "text": [
      "32\n",
      "166\n",
      "984\n",
      "543\n"
     ]
    },
    {
     "name": "stderr",
     "output_type": "stream",
     "text": [
      "C:\\ProgramData\\Anaconda3\\lib\\site-packages\\ipykernel_launcher.py:11: UserWarning: Boolean Series key will be reindexed to match DataFrame index.\n",
      "  # This is added back by InteractiveShellApp.init_path()\n",
      "C:\\ProgramData\\Anaconda3\\lib\\site-packages\\ipykernel_launcher.py:17: UserWarning: Boolean Series key will be reindexed to match DataFrame index.\n"
     ]
    },
    {
     "data": {
      "text/html": [
       "<div>\n",
       "<style scoped>\n",
       "    .dataframe tbody tr th:only-of-type {\n",
       "        vertical-align: middle;\n",
       "    }\n",
       "\n",
       "    .dataframe tbody tr th {\n",
       "        vertical-align: top;\n",
       "    }\n",
       "\n",
       "    .dataframe thead th {\n",
       "        text-align: right;\n",
       "    }\n",
       "</style>\n",
       "<table border=\"1\" class=\"dataframe\">\n",
       "  <thead>\n",
       "    <tr style=\"text-align: right;\">\n",
       "      <th></th>\n",
       "      <th>age</th>\n",
       "      <th>sex</th>\n",
       "      <th>bmi</th>\n",
       "      <th>children</th>\n",
       "      <th>smoker</th>\n",
       "      <th>canton</th>\n",
       "      <th>pbf</th>\n",
       "      <th>charges</th>\n",
       "    </tr>\n",
       "  </thead>\n",
       "  <tbody>\n",
       "  </tbody>\n",
       "</table>\n",
       "</div>"
      ],
      "text/plain": [
       "Empty DataFrame\n",
       "Columns: [age, sex, bmi, children, smoker, canton, pbf, charges]\n",
       "Index: []"
      ]
     },
     "execution_count": 66,
     "metadata": {},
     "output_type": "execute_result"
    }
   ],
   "source": [
    "#index are not correct, don't know why, removed entries manually\n",
    "children_outliers_to_del = data[(data['age'] <= 21) & (data['children'] == 5)].index.values - 1\n",
    "\n",
    "for i in children_outliers_to_del:\n",
    "    print(i)\n",
    "\n",
    "#when these are removed, the score is worse by .10 for some reason but the mean absolute error drops by 60 points\n",
    "data2 = data.drop(data.index[[32, 165, 983]])\n",
    "data2[(data2['age'] <= 21) & (data2['children'] == 5)]\n",
    "\n",
    "charges_outliers_to_del = data2[(data['charges'] >= 59000)].index.values - 1\n",
    "for i in charges_outliers_to_del:\n",
    "    print(i)\n",
    "\n",
    "data_no_outliers = data2.drop(data.index[[542]])\n",
    "\n",
    "data_no_outliers[(data['charges'] >= 59000)]"
   ]
  },
  {
   "cell_type": "code",
   "execution_count": 67,
   "metadata": {},
   "outputs": [
    {
     "name": "stdout",
     "output_type": "stream",
     "text": [
      "      age sex     bmi  children  smoker canton    pbf  charges  female   male\n",
      "1      19   w  24.720         0    True     SO  35.94     4253    True  False\n",
      "2      18   m  29.416         1   False     AG  26.86     2494   False   True\n",
      "3      28   m  28.800         3   False     AG  26.92     3138   False   True\n",
      "4      33   m  20.564         0   False     BS   7.98     1553   False   True\n",
      "5      32   m  25.504         0   False     BS  21.84     2768   False   True\n",
      "...   ...  ..     ...       ...     ...    ...    ...      ...     ...    ...\n",
      "1334   50   m  27.176         3   False     BS  23.02     5767   False   True\n",
      "1335   18   w  27.936         0   False     BL  42.18     2547    True  False\n",
      "1336   18   w  31.880         0   False     AG  49.59     3026    True  False\n",
      "1337   21   w  23.040         0   False     SO  31.18     2208    True  False\n",
      "1338   61   w  25.656         0    True     BS  38.63    19007    True  False\n",
      "\n",
      "[1333 rows x 10 columns]\n",
      "   age  sex     bmi  children  smoker  canton    pbf  charges charges_level\n",
      "1   19    0  24.720         0       0       0  35.94     4253             0\n",
      "2   18    1  29.416         1       1       1  26.86     2494             0\n",
      "3   28    1  28.800         3       1       1  26.92     3138             0\n",
      "4   33    1  20.564         0       1       2   7.98     1553             0\n",
      "5   32    1  25.504         0       1       2  21.84     2768             0\n",
      "   age     bmi  children  smoker    pbf  charges  female   male     so     ag  \\\n",
      "1   19  24.720         0    True  35.94     4253    True  False   True  False   \n",
      "2   18  29.416         1   False  26.86     2494   False   True  False   True   \n",
      "3   28  28.800         3   False  26.92     3138   False   True  False   True   \n",
      "4   33  20.564         0   False   7.98     1553   False   True  False  False   \n",
      "5   32  25.504         0   False  21.84     2768   False   True  False  False   \n",
      "\n",
      "      bs     bl charges_level  \n",
      "1  False  False             0  \n",
      "2  False  False             0  \n",
      "3  False  False             0  \n",
      "4   True  False             0  \n",
      "5   True  False             0  \n"
     ]
    }
   ],
   "source": [
    "data_trees_no_outliers = data_no_outliers.copy()\n",
    "\n",
    "# Encode categorical variables.\n",
    "data_no_outliers[\"sex\"] = pd.factorize(data_no_outliers['sex'])[0]\n",
    "data_no_outliers[\"smoker\"] = pd.factorize(data_no_outliers['smoker'])[0]\n",
    "data_no_outliers['canton'] = pd.factorize(data_no_outliers['canton'])[0]\n",
    "\n",
    "# Encode categorical variables.\n",
    "data_trees_no_outliers[\"female\"] = data_trees_no_outliers[\"sex\"] == \"w\"\n",
    "data_trees_no_outliers[\"male\"] = data_trees_no_outliers[\"sex\"] == \"m\"\n",
    "data_trees_no_outliers[\"smoker\"] = data_trees_no_outliers[\"smoker\"].apply(lambda x: x==\"ja\")\n",
    "print(data_trees_no_outliers)\n",
    "for canton_name in data_trees_no_outliers[\"canton\"].unique():\n",
    "    data_trees_no_outliers[canton_name.lower()] = data_trees_no_outliers[\"canton\"] == canton_name\n",
    "\n",
    "# Remove encoded categorical variables.\n",
    "data_trees_no_outliers = data_trees_no_outliers.drop('sex', axis=1)\n",
    "data_trees_no_outliers = data_trees_no_outliers.drop('canton', axis=1)\n",
    "\n",
    "\n",
    "# Divide the charges into categories. Is there a more objective way to determine the categories? K-clustering?\n",
    "bins = [1, 10000, 35000, 1000000]\n",
    "bin_labels = [0, 1, 2]\n",
    "data_trees_no_outliers[\"charges_level\"] = pd.cut(data_trees_no_outliers[\"charges\"], bins=bins, labels=bin_labels, include_lowest=True)\n",
    "data_no_outliers[\"charges_level\"] = pd.cut(data_no_outliers[\"charges\"], bins=bins, labels=bin_labels, include_lowest=True)\n",
    "\n",
    "print(data_no_outliers.head())\n",
    "\n",
    "print(data_trees_no_outliers.head())"
   ]
  },
  {
   "cell_type": "code",
   "execution_count": 68,
   "metadata": {},
   "outputs": [],
   "source": [
    "labels = np.array(data_no_outliers['charges'])\n",
    "# The data we want to split = 'input'\n",
    "input = data_no_outliers.drop('charges', axis=1).drop('charges_level', axis=1)\n",
    "\n",
    "# The argument for the split function has to be an array\n",
    "input = np.array(input)\n",
    "\n",
    "# Split the data into training and test sets\n",
    "train_input, test_input, train_labels, test_labels = \\\n",
    "    train_test_split(input, labels, test_size = 0.25, random_state = 42) \n",
    "\n",
    "labels_trees = np.array(data_trees_no_outliers['charges'])\n",
    "# The data we want to split = 'input'\n",
    "input_trees = data_trees_no_outliers.drop('charges', axis=1).drop('charges_level', axis=1)\n",
    "\n",
    "# The argument for the split function has to be an array\n",
    "input_trees = np.array(input_trees)\n",
    "\n",
    "# Split the data into training and test sets\n",
    "train_input_trees, test_input_trees, train_labels_trees, test_labels_trees = \\\n",
    "    train_test_split(input_trees, labels_trees, test_size = 0.25, random_state = 42) "
   ]
  },
  {
   "cell_type": "markdown",
   "metadata": {},
   "source": [
    "#### Linear Regression Confusion Matrix with a Base Model (Alpha = 0)\n",
    "\n",
    "Its output was converted to match the categorical buckets."
   ]
  },
  {
   "cell_type": "code",
   "execution_count": 69,
   "metadata": {},
   "outputs": [
    {
     "data": {
      "image/png": "[encoded data removed]",
      "text/plain": [
       "<Figure size 432x288 with 2 Axes>"
      ]
     },
     "metadata": {
      "needs_background": "light"
     },
     "output_type": "display_data"
    },
    {
     "name": "stdout",
     "output_type": "stream",
     "text": [
      "              precision    recall  f1-score   support\n",
      "\n",
      "           0       1.00      0.90      0.94       287\n",
      "           1       0.58      1.00      0.74        45\n",
      "           2       0.00      0.00      0.00         2\n",
      "\n",
      "    accuracy                           0.90       334\n",
      "   macro avg       0.53      0.63      0.56       334\n",
      "weighted avg       0.94      0.90      0.91       334\n",
      "\n"
     ]
    },
    {
     "name": "stderr",
     "output_type": "stream",
     "text": [
      "C:\\ProgramData\\Anaconda3\\lib\\site-packages\\sklearn\\metrics\\_classification.py:1272: UndefinedMetricWarning: Precision and F-score are ill-defined and being set to 0.0 in labels with no predicted samples. Use `zero_division` parameter to control this behavior.\n",
      "  _warn_prf(average, modifier, msg_start, len(result))\n"
     ]
    }
   ],
   "source": [
    "# define model\n",
    "ridge_model = Ridge(alpha=0)\n",
    "# fit model\n",
    "ridge_model.fit(train_input, train_labels)\n",
    "\n",
    "predics = ridge_model.predict(test_input)\n",
    "\n",
    "bins = [1, 10000, 35000, 1000000]\n",
    "\n",
    "predics_categorized = pd.cut(abs(predics), bins=bins, labels=bin_labels, include_lowest=True)\n",
    "test_labels_categorized = pd.cut(abs(test_labels), bins=bins, labels=bin_labels, include_lowest=True)\n",
    "\n",
    "cm = confusion_matrix(predics_categorized, test_labels_categorized)\n",
    "\n",
    "ax= plt.subplot()\n",
    "sn.heatmap(cm, annot=True, fmt='g', ax=ax);  #annot=True to annotate cells, ftm='g' to disable scientific notation\n",
    "\n",
    "# labels, title and ticks\n",
    "ax.set_xlabel('Predicted labels');ax.set_ylabel('True labels')\n",
    "ax.set_title('Confusion Matrix')\n",
    "plt.show()\n",
    "\n",
    "#logistic_regression.score(X_test, y_test)\n",
    "#plot_confusion_matrix(logistic_regression, X_test, y_test, display_labels = y_labels)\n",
    "print(classification_report(test_labels_categorized, predics_categorized))"
   ]
  },
  {
   "cell_type": "markdown",
   "metadata": {},
   "source": [
    "#### Logistic Regression using extended dataframe that's used for random forest as well"
   ]
  },
  {
   "cell_type": "code",
   "execution_count": 73,
   "metadata": {},
   "outputs": [
    {
     "data": {
      "image/png": "[encoded data removed]",
      "text/plain": [
       "<Figure size 432x288 with 2 Axes>"
      ]
     },
     "metadata": {
      "needs_background": "light"
     },
     "output_type": "display_data"
    },
    {
     "name": "stdout",
     "output_type": "stream",
     "text": [
      "              precision    recall  f1-score   support\n",
      "\n",
      "           0       0.97      1.00      0.98       287\n",
      "           1       0.93      0.82      0.87        45\n",
      "           2       0.00      0.00      0.00         2\n",
      "\n",
      "    accuracy                           0.97       334\n",
      "   macro avg       0.63      0.61      0.62       334\n",
      "weighted avg       0.96      0.97      0.96       334\n",
      "\n"
     ]
    },
    {
     "name": "stderr",
     "output_type": "stream",
     "text": [
      "C:\\ProgramData\\Anaconda3\\lib\\site-packages\\sklearn\\metrics\\_classification.py:1272: UndefinedMetricWarning: Precision and F-score are ill-defined and being set to 0.0 in labels with no predicted samples. Use `zero_division` parameter to control this behavior.\n",
      "  _warn_prf(average, modifier, msg_start, len(result))\n"
     ]
    }
   ],
   "source": [
    "logistic_regression = LogisticRegression(max_iter = 10000)\n",
    "train_labels_categorized = pd.cut(abs(train_labels_trees), bins=bins, labels=bin_labels, include_lowest=True)\n",
    "logistic_regression.fit(train_input_trees, train_labels_categorized)\n",
    "\n",
    "label_prediction = logistic_regression.predict(test_input_trees)\n",
    "\n",
    "cm = confusion_matrix(label_prediction, test_labels_categorized)\n",
    "\n",
    "ax= plt.subplot()\n",
    "sn.heatmap(cm, annot=True, fmt='g', ax=ax);  #annot=True to annotate cells, ftm='g' to disable scientific notation\n",
    "\n",
    "# labels, title and ticks\n",
    "ax.set_xlabel('Predicted labels')\n",
    "ax.set_ylabel('True labels')\n",
    "ax.set_title('Confusion Matrix') \n",
    "plt.show()\n",
    "\n",
    "print(classification_report(test_labels_categorized, label_prediction))"
   ]
  },
  {
   "cell_type": "markdown",
   "metadata": {},
   "source": [
    "#### Logistic Regression using same dataframe as in Ridge Regression"
   ]
  },
  {
   "cell_type": "code",
   "execution_count": 72,
   "metadata": {},
   "outputs": [
    {
     "data": {
      "image/png": "[encoded data removed]",
      "text/plain": [
       "<Figure size 432x288 with 2 Axes>"
      ]
     },
     "metadata": {
      "needs_background": "light"
     },
     "output_type": "display_data"
    },
    {
     "name": "stdout",
     "output_type": "stream",
     "text": [
      "              precision    recall  f1-score   support\n",
      "\n",
      "           0       0.97      0.99      0.98       287\n",
      "           1       0.90      0.80      0.85        45\n",
      "           2       0.00      0.00      0.00         2\n",
      "\n",
      "    accuracy                           0.96       334\n",
      "   macro avg       0.62      0.60      0.61       334\n",
      "weighted avg       0.95      0.96      0.96       334\n",
      "\n"
     ]
    },
    {
     "name": "stderr",
     "output_type": "stream",
     "text": [
      "C:\\ProgramData\\Anaconda3\\lib\\site-packages\\sklearn\\metrics\\_classification.py:1272: UndefinedMetricWarning: Precision and F-score are ill-defined and being set to 0.0 in labels with no predicted samples. Use `zero_division` parameter to control this behavior.\n",
      "  _warn_prf(average, modifier, msg_start, len(result))\n"
     ]
    }
   ],
   "source": [
    "logistic_regression = LogisticRegression(max_iter = 10000)\n",
    "train_labels_categorized = pd.cut(abs(train_labels), bins=bins, labels=bin_labels, include_lowest=True)\n",
    "logistic_regression.fit(train_input, train_labels_categorized)\n",
    "\n",
    "label_prediction = logistic_regression.predict(test_input)\n",
    "\n",
    "cm = confusion_matrix(label_prediction, test_labels_categorized)\n",
    "\n",
    "ax= plt.subplot()\n",
    "sn.heatmap(cm, annot=True, fmt='g', ax=ax);  #annot=True to annotate cells, ftm='g' to disable scientific notation\n",
    "\n",
    "# labels, title and ticks\n",
    "ax.set_xlabel('Predicted labels')\n",
    "ax.set_ylabel('True labels')\n",
    "ax.set_title('Confusion Matrix') \n",
    "plt.show()\n",
    "\n",
    "print(classification_report(test_labels_categorized, label_prediction))"
   ]
  },
  {
   "cell_type": "markdown",
   "metadata": {},
   "source": [
    "#### Random Forest"
   ]
  },
  {
   "cell_type": "code",
   "execution_count": 74,
   "metadata": {},
   "outputs": [
    {
     "data": {
      "image/png": "[encoded data removed]",
      "text/plain": [
       "<Figure size 432x288 with 2 Axes>"
      ]
     },
     "metadata": {
      "needs_background": "light"
     },
     "output_type": "display_data"
    },
    {
     "name": "stdout",
     "output_type": "stream",
     "text": [
      "              precision    recall  f1-score   support\n",
      "\n",
      "           0       0.98      0.98      0.98       287\n",
      "           1       0.86      0.82      0.84        45\n",
      "           2       0.50      0.50      0.50         2\n",
      "\n",
      "    accuracy                           0.96       334\n",
      "   macro avg       0.78      0.77      0.77       334\n",
      "weighted avg       0.96      0.96      0.96       334\n",
      "\n"
     ]
    }
   ],
   "source": [
    "model = RandomForestRegressor()\n",
    "model.fit(train_input, train_labels)\n",
    "\n",
    "# Round up prediction labels as integers\n",
    "label_prediction = model.predict(test_input)\n",
    "\n",
    "result = pd.DataFrame()\n",
    "result['prediction'] = label_prediction\n",
    "result['prediction_charges_level'] = pd.cut(result['prediction'],\n",
    "                                            bins=bins, # use bins from before\n",
    "                                            labels=bin_labels, \n",
    "                                            include_lowest=True)\n",
    "\n",
    "result['actual'] = test_labels\n",
    "result['actual_charges_level'] = pd.cut(result['actual'], \n",
    "                                        bins=bins, \n",
    "                                        labels=bin_labels, \n",
    "                                        include_lowest=True)\n",
    "\n",
    "\n",
    "cm = confusion_matrix(result[\"actual_charges_level\"], result[\"prediction_charges_level\"])\n",
    "\n",
    "ax= plt.subplot()\n",
    "sn.heatmap(cm, annot=True, fmt='g', ax=ax);  #annot=True to annotate cells, ftm='g' to disable scientific notation\n",
    "\n",
    "# labels, title and ticks\n",
    "ax.set_xlabel('Predicted labels')\n",
    "ax.set_ylabel('True labels')\n",
    "ax.set_title('Confusion Matrix') \n",
    "plt.show()\n",
    "\n",
    "print(classification_report(result[\"actual_charges_level\"], result[\"prediction_charges_level\"]))"
   ]
  },
  {
   "cell_type": "markdown",
   "metadata": {},
   "source": [
    "#### Optimized Ridge Regression"
   ]
  },
  {
   "cell_type": "code",
   "execution_count": 106,
   "metadata": {},
   "outputs": [
    {
     "name": "stdout",
     "output_type": "stream",
     "text": [
      "[[-0.57735027 -0.57735027 -0.57735027]\n",
      " [-0.57533275  0.78940751 -0.21407476]\n",
      " [-0.57936076 -0.2085724   0.78793316]]\n"
     ]
    },
    {
     "data": {
      "image/png": "[encoded data removed]",
      "text/plain": [
       "<Figure size 1440x360 with 2 Axes>"
      ]
     },
     "metadata": {
      "needs_background": "light"
     },
     "output_type": "display_data"
    },
    {
     "name": "stdout",
     "output_type": "stream",
     "text": [
      "Mean Absolute Error min value: 0.05688622754491018\n",
      "Alpha value for Mean Absolute Error min value: 1145.4145414541454\n"
     ]
    }
   ],
   "source": [
    "pca_data = data_no_outliers[['sex','bmi', 'pbf']]\n",
    "\n",
    "X = pca_data.values\n",
    "X = X.T\n",
    "x_mean = X - np.mean(X, axis=0) \n",
    "\n",
    "test = np.cov(x_mean)\n",
    "(eigvalues_, components_) = np.linalg.eigh(test)\n",
    "print(components_.T)\n",
    "idx = eigvalues_.argsort()[::-1]   \n",
    "eigvalues_ = eigvalues_[idx]\n",
    "total_variance_ = np.sum(eigvalues_)\n",
    "explained_variance_ = eigvalues_ / total_variance_\n",
    "\n",
    "data4 = data_no_outliers.copy()\n",
    "data4[['sex','bmi', 'pbf']] = np.dot(data4[['sex', 'bmi', 'pbf']].values, components_.T)\n",
    "\n",
    "labels = np.array(data_no_outliers['charges'])\n",
    "\n",
    "# The data we want to split = 'input'\n",
    "input = data4.drop('sex', axis=1).drop('charges', axis = 1).drop('charges_level', axis = 1)\n",
    "\n",
    "# The argument for the split function has to be an array\n",
    "input = np.array(input)\n",
    "\n",
    "train_input, test_input, train_labels, test_labels = \\\n",
    "train_test_split(input, labels, test_size = 0.25, random_state = 42) \n",
    "train_input = np.array(train_input, dtype=np.float64)\n",
    "test_input = np.array(test_input, dtype=np.float64)\n",
    "\n",
    "train_input_standardize = (train_input - np.mean(train_input, axis=0)) / np.std(train_input, axis=0)\n",
    "test_input_standardize = (test_input - np.mean(test_input, axis=0)) / np.std(test_input, axis=0)\n",
    "\n",
    "maeArray = []\n",
    "\n",
    "alphaRange = np.linspace(1000, 1500, 10000)\n",
    "for i in alphaRange:  \n",
    "    RidgeRegressor = Ridge(alpha = i)\n",
    "    ridge1 = RidgeRegressor.fit(train_input_standardize, train_labels)\n",
    "    predics = RidgeRegressor.predict(test_input_standardize)\n",
    "    \n",
    "    predics_categorized = pd.cut(abs(predics), bins=bins, labels=bin_labels, include_lowest=True)\n",
    "    test_labels_categorized = pd.cut(abs(test_labels), bins=bins, labels=bin_labels, include_lowest=True)\n",
    "    \n",
    "    \n",
    "    #print(predics_categorized.to_numpy(), test_labels_categorized.to_numpy())\n",
    "    #print(i)\n",
    "    try:\n",
    "        mae = mean_absolute_error(test_labels_categorized.to_numpy(),  predics_categorized.to_numpy())\n",
    "    except ValueError:\n",
    "        print(\"Oops!  That was no valid number.  Try again...\", ValueError)\n",
    "    maeArray.append(mae)\n",
    "\n",
    "\n",
    "plt.rcParams[\"figure.figsize\"] = (20,5)  \n",
    "\n",
    "fig1, ax1 = plt.subplots() # two axes on figure\n",
    "\n",
    "ax2 = ax1.twinx()\n",
    "ax2.plot(alphaRange, maeArray, label=\"Mean Absolute Error\")\n",
    "ax2.set_xlabel(\"Ridge Regression Alpha Value\")\n",
    "ax2.set_ylabel(\"Mean Absolute Error\")\n",
    "\n",
    "plt.title(\"Metriken Plot über verschiedene Alpha Werte\")\n",
    "plt.legend()\n",
    "plt.show()\n",
    "\n",
    "print(\"Mean Absolute Error min value:\", np.amin(maeArray))\n",
    "print(\"Alpha value for Mean Absolute Error min value:\", alphaRange[np.where(maeArray == np.amin(maeArray))][0])"
   ]
  },
  {
   "cell_type": "code",
   "execution_count": 108,
   "metadata": {},
   "outputs": [
    {
     "data": {
      "image/png": "[encoded data removed]",
      "text/plain": [
       "<Figure size 1440x360 with 2 Axes>"
      ]
     },
     "metadata": {
      "needs_background": "light"
     },
     "output_type": "display_data"
    },
    {
     "name": "stdout",
     "output_type": "stream",
     "text": [
      "              precision    recall  f1-score   support\n",
      "\n",
      "           0       0.95      0.99      0.97       287\n",
      "           1       0.88      0.67      0.76        45\n",
      "           2       0.00      0.00      0.00         2\n",
      "\n",
      "    accuracy                           0.94       334\n",
      "   macro avg       0.61      0.55      0.58       334\n",
      "weighted avg       0.94      0.94      0.94       334\n",
      "\n"
     ]
    },
    {
     "name": "stderr",
     "output_type": "stream",
     "text": [
      "C:\\ProgramData\\Anaconda3\\lib\\site-packages\\sklearn\\metrics\\_classification.py:1272: UndefinedMetricWarning: Precision and F-score are ill-defined and being set to 0.0 in labels with no predicted samples. Use `zero_division` parameter to control this behavior.\n",
      "  _warn_prf(average, modifier, msg_start, len(result))\n"
     ]
    }
   ],
   "source": [
    "RidgeRegressor = Ridge(alpha = 1145.4145)\n",
    "ridge1 = RidgeRegressor.fit(train_input_standardize, train_labels)\n",
    "predics = RidgeRegressor.predict(test_input_standardize)\n",
    "\n",
    "predics_categorized = pd.cut(abs(predics), bins=bins, labels=bin_labels, include_lowest=True)\n",
    "test_labels_categorized = pd.cut(abs(test_labels), bins=bins, labels=bin_labels, include_lowest=True)\n",
    "\n",
    "cm = confusion_matrix(predics_categorized, test_labels_categorized)\n",
    "\n",
    "ax= plt.subplot()\n",
    "sn.heatmap(cm, annot=True, fmt='g', ax=ax);  #annot=True to annotate cells, ftm='g' to disable scientific notation\n",
    "\n",
    "# labels, title and ticks\n",
    "ax.set_xlabel('Predicted labels');ax.set_ylabel('True labels')\n",
    "ax.set_title('Confusion Matrix')\n",
    "plt.show()\n",
    "\n",
    "#logistic_regression.score(X_test, y_test)\n",
    "#plot_confusion_matrix(logistic_regression, X_test, y_test, display_labels = y_labels)\n",
    "print(classification_report(test_labels_categorized, predics_categorized))"
   ]
  }
 ],
 "metadata": {
  "kernelspec": {
   "display_name": "Python 3",
   "language": "python",
   "name": "python3"
  },
  "language_info": {
   "codemirror_mode": {
    "name": "ipython",
    "version": 3
   },
   "file_extension": ".py",
   "mimetype": "text/x-python",
   "name": "python",
   "nbconvert_exporter": "python",
   "pygments_lexer": "ipython3",
   "version": "3.7.6"
  }
 },
 "nbformat": 4,
 "nbformat_minor": 4
}
